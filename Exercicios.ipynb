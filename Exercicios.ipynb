{
  "nbformat": 4,
  "nbformat_minor": 0,
  "metadata": {
    "colab": {
      "name": "Exercicios.ipynb",
      "provenance": [],
      "toc_visible": true,
      "mount_file_id": "16GS4DDkKi1lAB-wGCwGPLAtN27wkje_l",
      "authorship_tag": "ABX9TyOT4OX+KhogE+bMDzz3YjvC",
      "include_colab_link": true
    },
    "kernelspec": {
      "display_name": "Python 3",
      "name": "python3"
    },
    "language_info": {
      "name": "python"
    }
  },
  "cells": [
    {
      "cell_type": "markdown",
      "metadata": {
        "id": "view-in-github",
        "colab_type": "text"
      },
      "source": [
        "<a href=\"https://colab.research.google.com/github/marceloknebel/exemplo-colaboratory/blob/main/Exercicios.ipynb\" target=\"_parent\"><img src=\"https://colab.research.google.com/assets/colab-badge.svg\" alt=\"Open In Colab\"/></a>"
      ]
    },
    {
      "cell_type": "markdown",
      "metadata": {
        "id": "GhDf9hl1JSuo"
      },
      "source": [
        "-------------\n",
        "#Exercício 1\n",
        "----------------\n",
        "\n",
        "Crie um programa que escreva \"Olá, Mundo!\" na tela:"
      ]
    },
    {
      "cell_type": "code",
      "metadata": {
        "colab": {
          "base_uri": "https://localhost:8080/"
        },
        "id": "lFD9ioWOIhXK",
        "outputId": "26d70686-58e7-4fd0-8dcd-5302f028beac"
      },
      "source": [
        "print('Olá, Mundo!!')"
      ],
      "execution_count": null,
      "outputs": [
        {
          "name": "stdout",
          "output_type": "stream",
          "text": [
            "Olá, Mundo!!\n"
          ]
        }
      ]
    },
    {
      "cell_type": "markdown",
      "metadata": {
        "id": "Sif9Y5AcJmbe"
      },
      "source": [
        "-------------\n",
        "#Exercício 2\n",
        "-------------\n",
        "Faça um programa que leia o nome de uma pessoa e mostre uma mensagem de boas-vindas."
      ]
    },
    {
      "cell_type": "code",
      "metadata": {
        "colab": {
          "base_uri": "https://localhost:8080/"
        },
        "id": "s8arVOS4KFUY",
        "outputId": "74f27ef1-ab9d-449c-8a15-68d10962dd51"
      },
      "source": [
        "nome = input('Digite seu nome: ')\n",
        "print('Seja Bem-Vindo', nome, 'Você ainda aprendeá muito nesse curso')"
      ],
      "execution_count": null,
      "outputs": [
        {
          "name": "stdout",
          "output_type": "stream",
          "text": [
            "Digite seu nome: Marcelo \n",
            "Seja Bem-Vindo Marcelo  Você ainda aprendeá muito nesse curso\n"
          ]
        }
      ]
    },
    {
      "cell_type": "markdown",
      "metadata": {
        "id": "P8iAsyn8nsbs"
      },
      "source": [
        "-------------\n",
        "#Exercício 3\n",
        "-------------\n",
        "Crie um programa que leia dois números e mostre a soma entre eles."
      ]
    },
    {
      "cell_type": "code",
      "metadata": {
        "colab": {
          "base_uri": "https://localhost:8080/"
        },
        "id": "EQt-evOnYMjZ",
        "outputId": "82c5ff97-be9b-4d82-e7c6-2092b10621e8"
      },
      "source": [
        "n1 = int (input('Digite um número: '))\n",
        "n2 = int (input('Digite outro numero: '))\n",
        "sum = n1 + n2\n",
        "print(\"A soma de {} com {} resulta em {}\" .format(n1, n2, sum))"
      ],
      "execution_count": null,
      "outputs": [
        {
          "name": "stdout",
          "output_type": "stream",
          "text": [
            "Digite um número: 2\n",
            "Digite outro numero: 5\n",
            "A soma de 2 com 5 resulta em 7\n"
          ]
        }
      ]
    },
    {
      "cell_type": "markdown",
      "metadata": {
        "id": "RDPQF8m5pPNI"
      },
      "source": [
        "-------------\n",
        "#Exercício 4\n",
        "-------------\n",
        "Faça um programa que leia algo pelo teclado e mostre na tela o seu tipo primitivo e todas as informações possíveis sobre ele."
      ]
    },
    {
      "cell_type": "code",
      "metadata": {
        "colab": {
          "base_uri": "https://localhost:8080/"
        },
        "id": "RLCSGj9rpLAK",
        "outputId": "79ed4043-2e59-43dc-db9a-391fdb902004"
      },
      "source": [
        "a = input( 'Digite qualquer coisa: ')\n",
        "print('É alfanumerico?', a.isalnum())"
      ],
      "execution_count": null,
      "outputs": [
        {
          "name": "stdout",
          "output_type": "stream",
          "text": [
            "Digite qualquer coisa: a\n",
            "É alfanumerico? True\n"
          ]
        }
      ]
    },
    {
      "cell_type": "markdown",
      "metadata": {
        "id": "_ogq7Qu_lylo"
      },
      "source": [
        "---------------\n",
        "#Exercício 5\n",
        "---------------\n",
        "Faça um programa que leia um número Inteiro e mostre na tela o seu sucessor e seu antecessor."
      ]
    },
    {
      "cell_type": "code",
      "metadata": {
        "colab": {
          "base_uri": "https://localhost:8080/"
        },
        "id": "FaeSbSFnmhpr",
        "outputId": "096d6d85-7f15-4be0-80c0-e56bb5682a1f"
      },
      "source": [
        "n1 = int (input('Digite um numero inteiro: '))\n",
        "sucessor = n1 + 1\n",
        "antecessor = n1 - 1\n",
        "print('O número que você digitou foi {} e seu sucessor é {} e seu antecessor é {}. ' .format(n1, sucessor, antecessor))"
      ],
      "execution_count": null,
      "outputs": [
        {
          "name": "stdout",
          "output_type": "stream",
          "text": [
            "Digite um numero inteiro: 2\n",
            "O número que você digitou foi 2 e seu sucessor é 3 e seu antecessor é 1. \n"
          ]
        }
      ]
    },
    {
      "cell_type": "markdown",
      "metadata": {
        "id": "76QN9Jp8n5qD"
      },
      "source": [
        "---------------\n",
        "#Exercício 6\n",
        "---------------\n",
        "Crie um algoritmo que leia um número e mostre o seu dobro, triplo e raiz quadrada."
      ]
    },
    {
      "cell_type": "code",
      "metadata": {
        "colab": {
          "base_uri": "https://localhost:8080/"
        },
        "id": "3ikItIG-n5Ji",
        "outputId": "f23e3f52-62eb-439b-e71f-923b3fb604b2"
      },
      "source": [
        "numero = float (input('Digite um número: '))\n",
        "dobro = numero*2\n",
        "triplo = numero*3\n",
        "raiz = numero ** (1/2)\n",
        "print('O numero que você digitou é {} e seu dobro é {}, seu triplo é {} e sua raiz quadrada é {:.2f}' .format(numero, dobro, triplo, raiz))"
      ],
      "execution_count": null,
      "outputs": [
        {
          "name": "stdout",
          "output_type": "stream",
          "text": [
            "Digite um número: 5\n",
            "O numero que você digitou é 5.0 e seu dobro é 10.0, seu triplo é 15.0 e sua raiz quadrada é 2.24\n"
          ]
        }
      ]
    },
    {
      "cell_type": "markdown",
      "metadata": {
        "id": "ebW2qJWwp018"
      },
      "source": [
        "---------------\n",
        "#Exercício 7\n",
        "---------------\n",
        "Desenvolva um programa que leia as duas notas de um aluno, calcule e mostre a sua média."
      ]
    },
    {
      "cell_type": "code",
      "metadata": {
        "colab": {
          "base_uri": "https://localhost:8080/"
        },
        "id": "CAXjBClXp9BA",
        "outputId": "b8c91a88-aca8-44c6-fadd-aba5c7bd8425"
      },
      "source": [
        "nota1 = float (input('Nota da primeira prova: '))\n",
        "nota2 = float (input('Nota da segunda prova: '))\n",
        "media = (nota1 + nota2)/2\n",
        "print(' A nota da primeira prova do aluno foi {}. \\n A segunda nota foi de {}.  \\n A média foi de {:.1f}.' .format(nota1, nota2, media))"
      ],
      "execution_count": null,
      "outputs": [
        {
          "name": "stdout",
          "output_type": "stream",
          "text": [
            "Nota da primeira prova: 2.35\n",
            "Nota da segunda prova: 5\n",
            " A nota da primeira prova do aluno foi 2.35. \n",
            " A segunda nota foi de 5.0.  \n",
            " A média foi de 3.7.\n"
          ]
        }
      ]
    },
    {
      "cell_type": "markdown",
      "metadata": {
        "id": "9C-7bCk4sCL7"
      },
      "source": [
        "---------------\n",
        "#Exercício 8\n",
        "---------------\n",
        "Escreva um programa que leia um valor em metros e o exiba convertido em centímetros e milímetros.\n"
      ]
    },
    {
      "cell_type": "code",
      "metadata": {
        "colab": {
          "base_uri": "https://localhost:8080/"
        },
        "id": "JD9Z5HsksH0r",
        "outputId": "9e24f98c-72c3-4199-e11d-578c2faa4721"
      },
      "source": [
        "metros = float (input('Digite um número em metros: '))\n",
        "centi = metros / 100\n",
        "mili = metros / 1000\n",
        "print('{} metros correspondem à {} centímetros e {} milímetros' .format(metros, centi, mili))"
      ],
      "execution_count": null,
      "outputs": [
        {
          "name": "stdout",
          "output_type": "stream",
          "text": [
            "Digite um número em metros: 5\n",
            "5.0 metros correspondem à 0.05 centímetros e 0.005 milímetros\n"
          ]
        }
      ]
    },
    {
      "cell_type": "markdown",
      "metadata": {
        "id": "hD44P5BnuBh-"
      },
      "source": [
        "---------------\n",
        "#Exercício 9\n",
        "---------------\n",
        "Faça um programa que leia um número Inteiro qualquer e mostre na tela a sua tabuada."
      ]
    },
    {
      "cell_type": "code",
      "metadata": {
        "colab": {
          "base_uri": "https://localhost:8080/"
        },
        "id": "KMPTtP4CuBeK",
        "outputId": "8dd133cb-6d10-4843-c2e0-a9848c5251d6"
      },
      "source": [
        "numero = int (input('Digite um número para ver sua tabuada: '))\n",
        "\n",
        "print('=' * 12)\n",
        "print('{} x {:2} = {}' .format(numero, 1, numero*1))\n",
        "print('{} x {:2} = {}' .format(numero, 2, numero*2))\n",
        "print('{} x {:2} = {}' .format(numero, 3, numero*3))\n",
        "print('{} x {:2} = {}' .format(numero, 4, numero*4))\n",
        "print('{} x {:2} = {}' .format(numero, 5, numero*5))\n",
        "print('{} x {:2} = {}' .format(numero, 6, numero*6))\n",
        "print('{} x {:2} = {}' .format(numero, 7, numero*7))\n",
        "print('{} x {:2} = {}' .format(numero, 8, numero*8))\n",
        "print('{} x {:2} = {}' .format(numero, 9, numero*9))\n",
        "print('{} x {} = {}' .format(numero, 10, numero*10))\n",
        "print('=' * 12)"
      ],
      "execution_count": null,
      "outputs": [
        {
          "name": "stdout",
          "output_type": "stream",
          "text": [
            "Digite um número para ver sua tabuada: 5\n",
            "============\n",
            "5 x  1 = 5\n",
            "5 x  2 = 10\n",
            "5 x  3 = 15\n",
            "5 x  4 = 20\n",
            "5 x  5 = 25\n",
            "5 x  6 = 30\n",
            "5 x  7 = 35\n",
            "5 x  8 = 40\n",
            "5 x  9 = 45\n",
            "5 x 10 = 50\n",
            "============\n"
          ]
        }
      ]
    },
    {
      "cell_type": "markdown",
      "metadata": {
        "id": "o51098zgWSET"
      },
      "source": [
        "------------\n",
        "#Exercício 10\n",
        "-------------\n",
        "Crie um programa que leia quanto dinheiro uma pessoa tem na carteira e mostre quantos dólares ela pode comprar."
      ]
    },
    {
      "cell_type": "code",
      "metadata": {
        "colab": {
          "base_uri": "https://localhost:8080/"
        },
        "id": "YO4dILaSWZcg",
        "outputId": "134bac34-f217-414e-ce81-4f545579ac73"
      },
      "source": [
        "carteira = float (input('Quanto de dinheiro você tem na carteira? R$'))\n",
        "dolar = carteira / 3.27\n",
        "print('Com {} reais você pode comprar {:.2f} dólares.' .format(carteira, dolar))"
      ],
      "execution_count": null,
      "outputs": [
        {
          "name": "stdout",
          "output_type": "stream",
          "text": [
            "Quanto de dinheiro você tem na carteira? R$125.32\n",
            "Com 125.32 reais você pode comprar 38.32 dólares.\n"
          ]
        }
      ]
    },
    {
      "cell_type": "markdown",
      "metadata": {
        "id": "L6-b21ptX5Wx"
      },
      "source": [
        "------------\n",
        "#Exercício 11\n",
        "-------------\n",
        "Faça um programa que leia a largura e a altura de uma parede em metros, calcule a sua área e a quantidade de tinta necessária para pintá-la, sabendo que cada litro de tinta pinta uma área de 2 metros quadrados."
      ]
    },
    {
      "cell_type": "code",
      "metadata": {
        "colab": {
          "base_uri": "https://localhost:8080/"
        },
        "id": "qYAfQ1IsX5CS",
        "outputId": "eb631c03-986e-436e-a5de-8d8d795921f6"
      },
      "source": [
        "l = float (input('Qual a largura da sua parede em metros: '))\n",
        "a = float (input('Qaula a altura da sua parede em metros: '))\n",
        "\n",
        "area = l * a #Calculamos a àrea da parede\n",
        "tinta = area / 2 #Quantos litros são necessários para pinta a parede\n",
        "\n",
        "print('Para pintar sua parede de {} m², você deve utilizar {} litros de tinta' .format(area, tinta))"
      ],
      "execution_count": null,
      "outputs": [
        {
          "name": "stdout",
          "output_type": "stream",
          "text": [
            "Qual a largura da sua parede em metros: 5\n",
            "Qaula a altura da sua parede em metros: 5\n",
            "Para pintar sua parede de 25.0 m², você deve utilizar 12.5 litros de tinta\n"
          ]
        }
      ]
    },
    {
      "cell_type": "markdown",
      "metadata": {
        "id": "eaTF_LWcoKEK"
      },
      "source": [
        "-----------------\n",
        "#Exercício 12\n",
        "----------------------\n",
        "Faça um algoritmo que leia o preço de um produto e mostre seu novo preço, com 5% de desconto."
      ]
    },
    {
      "cell_type": "code",
      "metadata": {
        "colab": {
          "base_uri": "https://localhost:8080/"
        },
        "id": "wdGP_-nboIC-",
        "outputId": "f85966b3-7637-428e-dc49-dc788a05529c"
      },
      "source": [
        "produto = float (input('QUal é o valor do produto? '))\n",
        "desconto = produto * 0.95\n",
        "print('O valor do produto é de {} e com um desconto de 5% ele ficará por {:.2f}' .format(produto, desconto))"
      ],
      "execution_count": null,
      "outputs": [
        {
          "name": "stdout",
          "output_type": "stream",
          "text": [
            "QUal é o valor do produto? 125.33\n",
            "O valor do produto é de 125.33 e com um desconto de 5% ele ficará por 119.06\n"
          ]
        }
      ]
    },
    {
      "cell_type": "markdown",
      "metadata": {
        "id": "D4xRLYCeqW0A"
      },
      "source": [
        "------------\n",
        "#Exercício 13\n",
        "------------\n",
        "Faça um algoritmo que leia o salário de um funcionário e mostre seu novo salário, com 15% de aumento."
      ]
    },
    {
      "cell_type": "code",
      "metadata": {
        "colab": {
          "base_uri": "https://localhost:8080/"
        },
        "id": "ZZSjkP0nqWkF",
        "outputId": "96bdb49d-e92d-498b-9f69-653c3720a03d"
      },
      "source": [
        "salario = float (input('Qual o seu salário?'))\n",
        "aumento = salario * 1.15\n",
        "print('Parabéns, você ganhou um aumento de 15% e agora seu salário será de {:.2f}' .format(aumento))"
      ],
      "execution_count": null,
      "outputs": [
        {
          "name": "stdout",
          "output_type": "stream",
          "text": [
            "Qual o seu salário?100\n",
            "Parabéns, você ganhou um aumento de 15% e agora seu salário será de 115.00\n"
          ]
        }
      ]
    },
    {
      "cell_type": "markdown",
      "metadata": {
        "id": "hJNbi0eKr3a5"
      },
      "source": [
        "-------\n",
        "#Exercício 14\n",
        "-------\n",
        "Escreva um programa que converta uma temperatura digitando em graus Celsius e converta para graus Fahrenheit."
      ]
    },
    {
      "cell_type": "code",
      "metadata": {
        "colab": {
          "base_uri": "https://localhost:8080/"
        },
        "id": "q3Hk55aRsM6d",
        "outputId": "edc6edae-cf18-4d76-9707-bb06ec63d405"
      },
      "source": [
        "c = float (input('Informe a temperatura em °C: '))\n",
        "f = ((9 * c)/5) + 32\n",
        "print('A temperatura de {:.2f} °C em Fahrenheit é de {:.2f} F' .format(c, f))"
      ],
      "execution_count": null,
      "outputs": [
        {
          "name": "stdout",
          "output_type": "stream",
          "text": [
            "Informe a temperatura em °C: 35\n",
            "A temperatura de 35.00 °C em Fahrenheit é de 95.00 F\n"
          ]
        }
      ]
    },
    {
      "cell_type": "markdown",
      "metadata": {
        "id": "-7tXc1nMteHQ"
      },
      "source": [
        "------\n",
        "#Exercício 15\n",
        "------\n",
        "Escreva um programa que pergunte a quantidade de Km percorridos por um carro alugado e a quantidade de dias pelos quais ele foi alugado. Calcule o preço a pagar, sabendo que o carro custa R$ 60 por dia e R$ 0,15 por Km rodado."
      ]
    },
    {
      "cell_type": "code",
      "metadata": {
        "colab": {
          "base_uri": "https://localhost:8080/"
        },
        "id": "jeGxB_Avtige",
        "outputId": "401c25e0-fbd9-42e9-a60b-b9034cf0f91a"
      },
      "source": [
        "km = float (input('Qual a quantidade de km percorridos desde o aluguel do carro? '))\n",
        "dias = int (input('Por quantos dias o carro foi alugado? '))\n",
        "valorkm = 0.15 * km\n",
        "valordias = 60 * dias\n",
        "total = valorkm + valordias\n",
        "print('Você deverá pagar um total de {}' .format(total))"
      ],
      "execution_count": null,
      "outputs": [
        {
          "name": "stdout",
          "output_type": "stream",
          "text": [
            "Qual a quantidade de km percorridos desde o aluguel do carro? 100\n",
            "Por quantos dias o carro foi alugado? 10\n",
            "Você deverá pagar um total de 615.0\n"
          ]
        }
      ]
    },
    {
      "cell_type": "markdown",
      "metadata": {
        "id": "EwCugS9VLiqg"
      },
      "source": [
        "------\n",
        "#Exercício 16\n",
        "--------\n",
        "Crie um programa que leia um número Real qualquer pelo teclado e mostre na tela a sua porção Inteira.\n",
        "\n",
        "Podemos resolver esse exxercício da seguinte forma: \n",
        "\n",
        "    n = float (input('Digite um número qualquer: '))\n",
        "    print(n)\n",
        "    print(int (n))\n",
        "\n",
        "Como queremos utilizar os módulos, tentaremos de outra forma:"
      ]
    },
    {
      "cell_type": "code",
      "metadata": {
        "colab": {
          "base_uri": "https://localhost:8080/"
        },
        "id": "tzezHc4HJNIp",
        "outputId": "3b17621c-1ba4-47b4-b398-8df687f34f0d"
      },
      "source": [
        "from math import trunc\n",
        "n = float (input('Digite um número qualquer: '))\n",
        "print('O número que você digitou foi {} e a parte inteira dele é {}' .format(n, trunc(n)))\n"
      ],
      "execution_count": null,
      "outputs": [
        {
          "name": "stdout",
          "output_type": "stream",
          "text": [
            "Digite um número qualquer: 3.45\n",
            "O número que você digitou foi 3.45 e a parte inteira dele é 3\n"
          ]
        }
      ]
    },
    {
      "cell_type": "markdown",
      "metadata": {
        "id": "pVv_GxnvZuH0"
      },
      "source": [
        "------\n",
        "#Exercício 17\n",
        "------\n",
        "Faça um programa que leia o comprimento do cateto oposto e do cateto adjacente de um triângulo retângulo. Calcule e mostre o comprimento da hipotenusa.\n",
        "\n",
        "Há diversas formas de calcular esse exercício. Uma delas é pelo simples código:\n",
        "\n",
        "    import math\n",
        "    c1 = float (input('Digite o valor do cateto 1: '))\n",
        "    c2 = float (input('Digite o valor do cateto 2: '))\n",
        "    h = math.sqrt{c1**2 + c2**2}\n",
        "    print('O valor da Hipotenusa é {}' .format(h))"
      ]
    },
    {
      "cell_type": "code",
      "metadata": {
        "colab": {
          "base_uri": "https://localhost:8080/"
        },
        "id": "jv6COFsGZyf1",
        "outputId": "23791878-0fd8-4c1f-f1d4-c9826962be98"
      },
      "source": [
        "from math import hypot\n",
        "c1 = float (input('Digite o valor de um dos catetos: '))\n",
        "c2 = float (input('Digite o valor do outro cateto: '))\n",
        "print('O valor da hipotenusa é de {}' .format(hypot(c1, c2)))"
      ],
      "execution_count": null,
      "outputs": [
        {
          "name": "stdout",
          "output_type": "stream",
          "text": [
            "Digite o valor de um dos catetos: 3\n",
            "Digite o valor do outro cateto: 4\n",
            "O valor da hipotenusa é de 5.0\n"
          ]
        }
      ]
    },
    {
      "cell_type": "markdown",
      "metadata": {
        "id": "FHw3xoeVv8LR"
      },
      "source": [
        "--------\n",
        "#Exercício 18\n",
        "----------\n",
        "Faça um programa que leia um ângulo qualquer e mostre na tela o valor do seno, cosseno e tangente desse ângulo."
      ]
    },
    {
      "cell_type": "code",
      "metadata": {
        "colab": {
          "base_uri": "https://localhost:8080/"
        },
        "id": "hdIlJtDiwBHM",
        "outputId": "e7cef2e7-7b63-49be-8140-1b53296cc576"
      },
      "source": [
        "import math\n",
        "angulo = float (input('Digite o ângulo desejado: '))\n",
        "sen = math.sin(math.radians(angulo))\n",
        "cos = math.cos(math.radians(angulo))\n",
        "tan = math.tan(math.radians(angulo))\n",
        "print('O seno do ângulo é de {:.2f} \\nO cosseno do ângulo é de {:.2f} \\nA tangente do ângulo é de {:.2f}' .format(sen, cos, tan))"
      ],
      "execution_count": null,
      "outputs": [
        {
          "name": "stdout",
          "output_type": "stream",
          "text": [
            "Digite o ângulo desejado: 30\n",
            "O seno do ângulo é de 0.50 \n",
            "O cosseno do ângulo é de 0.87 \n",
            "A tangente do ângulo é de 0.58\n"
          ]
        }
      ]
    },
    {
      "cell_type": "markdown",
      "metadata": {
        "id": "A19ueAXE1ogw"
      },
      "source": [
        "--------\n",
        "#Exercício 19\n",
        "--------\n",
        "Um professor quer sortear um dos seus quatro alunos para apagar o quadro. Faça um programa que ajude ele, lendo o nome dos alunos e escrevendo na tela o nome do escolhido."
      ]
    },
    {
      "cell_type": "code",
      "metadata": {
        "colab": {
          "base_uri": "https://localhost:8080/"
        },
        "id": "OsR8hJJj1w8Q",
        "outputId": "bd9d57a5-18c0-4b57-ef75-a39302f6de2e"
      },
      "source": [
        "import random\n",
        "escolha = random.choice(['marcelo', 'neli', 'maria'])\n",
        "print('O aluno escolhido/a foi {}' .format(escolha))"
      ],
      "execution_count": null,
      "outputs": [
        {
          "name": "stdout",
          "output_type": "stream",
          "text": [
            "O aluno escolhido/a foi neli\n"
          ]
        }
      ]
    },
    {
      "cell_type": "code",
      "metadata": {
        "id": "IBfolkEz36nQ"
      },
      "source": [
        "#Outra forma não taao estática\n",
        "from random import choice\n",
        "n1 = str (input('Escolha o primeiro aluno: '))\n",
        "n2 = str (input('Escolha o segundo aluno: '))\n",
        "n3 = str (input('Escolha o terceiro aluno: '))\n",
        "n4 = str (input('Escolha o quarto aluno: '))\n",
        "lista = [n1, n2, n3, n4]\n",
        "escolha = choice(lista)\n",
        "print('O aluno escolhido foi {}.' .format(escolha))"
      ],
      "execution_count": null,
      "outputs": []
    },
    {
      "cell_type": "markdown",
      "metadata": {
        "id": "0iZ8o_Nq5VOy"
      },
      "source": [
        "----\n",
        "#Exercício 20\n",
        "-----\n",
        "O mesmo professor do desafio 19 quer sortear a ordem de apresentação de trabalhos dos alunos. Faça um programa que leia o nome dos quatro alunos e mostre a ordem sorteada."
      ]
    },
    {
      "cell_type": "code",
      "metadata": {
        "colab": {
          "base_uri": "https://localhost:8080/"
        },
        "id": "v0hCcGIS5dKs",
        "outputId": "19f56871-528f-4130-a771-081312200708"
      },
      "source": [
        "#Outra forma não taao estática\n",
        "from random import choice, shuffle, sample\n",
        "n1 = str (input('Escolha o primeiro aluno: '))\n",
        "n2 = str (input('Escolha o segundo aluno: '))\n",
        "n3 = str (input('Escolha o terceiro aluno: '))\n",
        "n4 = str (input('Escolha o quarto aluno: '))\n",
        "lista = sample([n1, n2, n3, n4], k=4)\n",
        "print('A ordem de apresentação será {}.' .format(lista))"
      ],
      "execution_count": null,
      "outputs": [
        {
          "name": "stdout",
          "output_type": "stream",
          "text": [
            "Escolha o primeiro aluno: jds\n",
            "Escolha o segundo aluno: al\n",
            "Escolha o terceiro aluno: f\n",
            "Escolha o quarto aluno: c\n",
            "A ordem de apresentação será ['c', 'al', 'f', 'jds'].\n"
          ]
        }
      ]
    },
    {
      "cell_type": "code",
      "metadata": {
        "colab": {
          "base_uri": "https://localhost:8080/"
        },
        "id": "uH2mLw5b9RNe",
        "outputId": "ec783ef8-86ef-476e-cdd6-83ab28fac96b"
      },
      "source": [
        "#OU\n",
        "from random import choice, shuffle, sample\n",
        "n1 = str (input('Escolha o primeiro aluno: '))\n",
        "n2 = str (input('Escolha o segundo aluno: '))\n",
        "n3 = str (input('Escolha o terceiro aluno: '))\n",
        "n4 = str (input('Escolha o quarto aluno: '))\n",
        "lista = [n1, n2, n3, n4]\n",
        "shuffle(lista)\n",
        "print('A ordem de apresentação será {}.' .format(lista))"
      ],
      "execution_count": null,
      "outputs": [
        {
          "name": "stdout",
          "output_type": "stream",
          "text": [
            "Escolha o primeiro aluno: marcelo\n",
            "Escolha o segundo aluno: maria\n",
            "Escolha o terceiro aluno: joao\n",
            "Escolha o quarto aluno: laura\n",
            "A ordem de apresentação será ['laura', 'joao', 'marcelo', 'maria'].\n"
          ]
        }
      ]
    },
    {
      "cell_type": "markdown",
      "metadata": {
        "id": "ot2M2ERfP35u"
      },
      "source": [
        "-----\n",
        "#Exercício 21\n",
        "------\n",
        "Faça um programa em Python que abra e reproduza o áudio de um arquivo MP3."
      ]
    },
    {
      "cell_type": "code",
      "metadata": {
        "colab": {
          "base_uri": "https://localhost:8080/"
        },
        "id": "lEHBTOVoRMkN",
        "outputId": "944701b7-014b-48c4-a979-759ee58eca21"
      },
      "source": [
        "#Import pygame at colab. StackOverflow Code\n",
        "import os\n",
        "!git clone https://github.com/ntasfi/PyGame-Learning-Environment.git\n",
        "os.chdir('PyGame-Learning-Environment')\n",
        "!pip install -e .\n",
        "!pip install pygame\n",
        "os.chdir('/content')"
      ],
      "execution_count": null,
      "outputs": [
        {
          "name": "stdout",
          "output_type": "stream",
          "text": [
            "Cloning into 'PyGame-Learning-Environment'...\n",
            "remote: Enumerating objects: 1118, done.\u001b[K\n",
            "remote: Total 1118 (delta 0), reused 0 (delta 0), pack-reused 1118\u001b[K\n",
            "Receiving objects: 100% (1118/1118), 8.06 MiB | 36.66 MiB/s, done.\n",
            "Resolving deltas: 100% (592/592), done.\n",
            "Obtaining file:///content/PyGame-Learning-Environment\n",
            "\u001b[31mERROR: Operation cancelled by user\u001b[0m\n",
            "Traceback (most recent call last):\n",
            "  File \"/usr/local/lib/python3.7/dist-packages/pip/_internal/cli/base_command.py\", line 180, in _main\n",
            "    status = self.run(options, args)\n",
            "  File \"/usr/local/lib/python3.7/dist-packages/pip/_internal/cli/req_command.py\", line 199, in wrapper\n",
            "    return func(self, options, args)\n",
            "  File \"/usr/local/lib/python3.7/dist-packages/pip/_internal/commands/install.py\", line 319, in run\n",
            "    reqs, check_supported_wheels=not options.target_dir\n",
            "  File \"/usr/local/lib/python3.7/dist-packages/pip/_internal/resolution/resolvelib/resolver.py\", line 104, in resolve\n",
            "    req, requested_extras=()\n",
            "  File \"/usr/local/lib/python3.7/dist-packages/pip/_internal/resolution/resolvelib/factory.py\", line 434, in make_requirement_from_install_req\n",
            "    version=None,\n",
            "  File \"/usr/local/lib/python3.7/dist-packages/pip/_internal/resolution/resolvelib/factory.py\", line 190, in _make_candidate_from_link\n",
            "    version=version,\n",
            "  File \"/usr/local/lib/python3.7/dist-packages/pip/_internal/resolution/resolvelib/candidates.py\", line 340, in __init__\n",
            "    version=version,\n",
            "  File \"/usr/local/lib/python3.7/dist-packages/pip/_internal/resolution/resolvelib/candidates.py\", line 151, in __init__\n",
            "    self.dist = self._prepare()\n",
            "  File \"/usr/local/lib/python3.7/dist-packages/pip/_internal/resolution/resolvelib/candidates.py\", line 234, in _prepare\n",
            "    dist = self._prepare_distribution()\n",
            "  File \"/usr/local/lib/python3.7/dist-packages/pip/_internal/resolution/resolvelib/candidates.py\", line 345, in _prepare_distribution\n",
            "    return self._factory.preparer.prepare_editable_requirement(self._ireq)\n",
            "  File \"/usr/local/lib/python3.7/dist-packages/pip/_internal/operations/prepare.py\", line 626, in prepare_editable_requirement\n",
            "    req.check_if_exists(self.use_user_site)\n",
            "  File \"/usr/local/lib/python3.7/dist-packages/pip/_internal/req/req_install.py\", line 418, in check_if_exists\n",
            "    existing_dist = get_distribution(self.req.name)\n",
            "  File \"/usr/local/lib/python3.7/dist-packages/pip/_internal/utils/misc.py\", line 432, in get_distribution\n",
            "    dist = get_default_environment().get_distribution(req_name)\n",
            "  File \"/usr/local/lib/python3.7/dist-packages/pip/_internal/metadata/pkg_resources.py\", line 118, in get_distribution\n",
            "    self._ws.require(name)\n",
            "  File \"/usr/local/lib/python3.7/dist-packages/pip/_vendor/pkg_resources/__init__.py\", line 900, in require\n",
            "    needed = self.resolve(parse_requirements(requirements))\n",
            "  File \"/usr/local/lib/python3.7/dist-packages/pip/_vendor/pkg_resources/__init__.py\", line 773, in resolve\n",
            "    env = Environment(self.entries)\n",
            "  File \"/usr/local/lib/python3.7/dist-packages/pip/_vendor/pkg_resources/__init__.py\", line 984, in __init__\n",
            "    self.scan(search_path)\n",
            "  File \"/usr/local/lib/python3.7/dist-packages/pip/_vendor/pkg_resources/__init__.py\", line 1016, in scan\n",
            "    for dist in find_distributions(item):\n",
            "  File \"/usr/local/lib/python3.7/dist-packages/pip/_vendor/pkg_resources/__init__.py\", line 2049, in find_on_path\n",
            "    entries = safe_listdir(path_item)\n",
            "  File \"/usr/local/lib/python3.7/dist-packages/pip/_vendor/pkg_resources/__init__.py\", line 2108, in safe_listdir\n",
            "    return os.listdir(path)\n",
            "KeyboardInterrupt\n",
            "\n",
            "During handling of the above exception, another exception occurred:\n",
            "\n",
            "Traceback (most recent call last):\n",
            "  File \"/usr/local/bin/pip3\", line 8, in <module>\n",
            "    sys.exit(main())\n",
            "  File \"/usr/local/lib/python3.7/dist-packages/pip/_internal/cli/main.py\", line 71, in main\n",
            "    return command.main(cmd_args)\n",
            "  File \"/usr/local/lib/python3.7/dist-packages/pip/_internal/cli/base_command.py\", line 104, in main\n",
            "    return self._main(args)\n",
            "  File \"/usr/local/lib/python3.7/dist-packages/pip/_internal/cli/base_command.py\", line 213, in _main\n",
            "    logger.debug(\"Exception information:\", exc_info=True)\n",
            "  File \"/usr/lib/python3.7/logging/__init__.py\", line 1366, in debug\n",
            "    self._log(DEBUG, msg, args, **kwargs)\n",
            "  File \"/usr/lib/python3.7/logging/__init__.py\", line 1514, in _log\n",
            "    self.handle(record)\n",
            "  File \"/usr/lib/python3.7/logging/__init__.py\", line 1524, in handle\n",
            "    self.callHandlers(record)\n",
            "  File \"/usr/lib/python3.7/logging/__init__.py\", line 1586, in callHandlers\n",
            "    hdlr.handle(record)\n",
            "  File \"/usr/lib/python3.7/logging/__init__.py\", line 894, in handle\n",
            "    self.emit(record)\n",
            "  File \"/usr/lib/python3.7/logging/handlers.py\", line 71, in emit\n",
            "    logging.FileHandler.emit(self, record)\n",
            "  File \"/usr/lib/python3.7/logging/__init__.py\", line 1127, in emit\n",
            "    StreamHandler.emit(self, record)\n",
            "  File \"/usr/lib/python3.7/logging/__init__.py\", line 1025, in emit\n",
            "    msg = self.format(record)\n",
            "  File \"/usr/lib/python3.7/logging/__init__.py\", line 869, in format\n",
            "    return fmt.format(record)\n",
            "  File \"/usr/local/lib/python3.7/dist-packages/pip/_internal/utils/logging.py\", line 130, in format\n",
            "    formatted = super().format(record)\n",
            "  File \"/usr/lib/python3.7/logging/__init__.py\", line 616, in format\n",
            "    record.exc_text = self.formatException(record.exc_info)\n",
            "  File \"/usr/lib/python3.7/logging/__init__.py\", line 566, in formatException\n",
            "    traceback.print_exception(ei[0], ei[1], tb, None, sio)\n",
            "  File \"/usr/lib/python3.7/traceback.py\", line 104, in print_exception\n",
            "    type(value), value, tb, limit=limit).format(chain=chain):\n",
            "  File \"/usr/lib/python3.7/traceback.py\", line 508, in __init__\n",
            "    capture_locals=capture_locals)\n",
            "  File \"/usr/lib/python3.7/traceback.py\", line 350, in extract\n",
            "    linecache.lazycache(filename, f.f_globals)\n",
            "  File \"/usr/lib/python3.7/linecache.py\", line 170, in lazycache\n",
            "    loader = module_globals['__loader__']\n",
            "KeyboardInterrupt\n",
            "Collecting pygame\n",
            "  Downloading pygame-2.0.1-cp37-cp37m-manylinux1_x86_64.whl (11.8 MB)\n",
            "\u001b[K     |████████████████████████████████| 11.8 MB 143 kB/s \n",
            "\u001b[?25hInstalling collected packages: pygame\n",
            "Successfully installed pygame-2.0.1\n"
          ]
        }
      ]
    },
    {
      "cell_type": "code",
      "metadata": {
        "colab": {
          "base_uri": "https://localhost:8080/",
          "height": 265
        },
        "id": "M76syHv9R1or",
        "outputId": "ef621b87-f8b9-4c9c-f15b-254cc97e52e6"
      },
      "source": [
        "import pygame\n",
        "pygame.init()\n",
        "pygame.mixer.music.load('osbaroes.mp3')\n",
        "pygame.mixer.music.play()\n",
        "pygame.event.wait()"
      ],
      "execution_count": null,
      "outputs": [
        {
          "name": "stdout",
          "output_type": "stream",
          "text": [
            "pygame 2.0.1 (SDL 2.0.14, Python 3.7.11)\n",
            "Hello from the pygame community. https://www.pygame.org/contribute.html\n"
          ]
        },
        {
          "ename": "error",
          "evalue": "ignored",
          "output_type": "error",
          "traceback": [
            "\u001b[0;31m---------------------------------------------------------------------------\u001b[0m",
            "\u001b[0;31merror\u001b[0m                                     Traceback (most recent call last)",
            "\u001b[0;32m<ipython-input-2-de5c10f89b88>\u001b[0m in \u001b[0;36m<module>\u001b[0;34m()\u001b[0m\n\u001b[1;32m      1\u001b[0m \u001b[0;32mimport\u001b[0m \u001b[0mpygame\u001b[0m\u001b[0;34m\u001b[0m\u001b[0;34m\u001b[0m\u001b[0m\n\u001b[1;32m      2\u001b[0m \u001b[0mpygame\u001b[0m\u001b[0;34m.\u001b[0m\u001b[0minit\u001b[0m\u001b[0;34m(\u001b[0m\u001b[0;34m)\u001b[0m\u001b[0;34m\u001b[0m\u001b[0;34m\u001b[0m\u001b[0m\n\u001b[0;32m----> 3\u001b[0;31m \u001b[0mpygame\u001b[0m\u001b[0;34m.\u001b[0m\u001b[0mmixer\u001b[0m\u001b[0;34m.\u001b[0m\u001b[0mmusic\u001b[0m\u001b[0;34m.\u001b[0m\u001b[0mload\u001b[0m\u001b[0;34m(\u001b[0m\u001b[0;34m'osbaroes.mp3'\u001b[0m\u001b[0;34m)\u001b[0m\u001b[0;34m\u001b[0m\u001b[0;34m\u001b[0m\u001b[0m\n\u001b[0m\u001b[1;32m      4\u001b[0m \u001b[0mpygame\u001b[0m\u001b[0;34m.\u001b[0m\u001b[0mmixer\u001b[0m\u001b[0;34m.\u001b[0m\u001b[0mmusic\u001b[0m\u001b[0;34m.\u001b[0m\u001b[0mplay\u001b[0m\u001b[0;34m(\u001b[0m\u001b[0;34m)\u001b[0m\u001b[0;34m\u001b[0m\u001b[0;34m\u001b[0m\u001b[0m\n\u001b[1;32m      5\u001b[0m \u001b[0mpygame\u001b[0m\u001b[0;34m.\u001b[0m\u001b[0mevent\u001b[0m\u001b[0;34m.\u001b[0m\u001b[0mwait\u001b[0m\u001b[0;34m(\u001b[0m\u001b[0;34m)\u001b[0m\u001b[0;34m\u001b[0m\u001b[0;34m\u001b[0m\u001b[0m\n",
            "\u001b[0;31merror\u001b[0m: mixer not initialized"
          ]
        }
      ]
    },
    {
      "cell_type": "markdown",
      "metadata": {
        "id": "DqajPXNvkEye"
      },
      "source": [
        "-----\n",
        "#Exercício 22\n",
        "------\n",
        "\n",
        "Crie um programa que leia o nome completo de uma pessoa e mostre:\n",
        "\n",
        "– O nome com todas as letras maiúsculas e minúsculas.\n",
        "\n",
        "– Quantas letras ao todo (sem considerar espaços).\n",
        "\n",
        "– Quantas letras tem o primeiro nome."
      ]
    },
    {
      "cell_type": "code",
      "metadata": {
        "colab": {
          "base_uri": "https://localhost:8080/"
        },
        "id": "QDtrecgNJq2T",
        "outputId": "a7163cce-755b-49a8-fbb0-0bc556530eff"
      },
      "source": [
        "nome = str (input('Digite seu nome completo: ')).strip()\n",
        "print('Analisando seu nome ... ')\n",
        "print('Seu nome em maiúsculas é {}' .format(nome.upper()))\n",
        "print('Seu nome em minúsculas é {}' .format(nome.lower()))\n",
        "print('Seu nome tem {} letras' .format(len(nome) - nome.count(' ')))\n",
        "separa = nome.split()\n",
        "print('Seu primeiro nome é {} e possui {} letras' .format(separa[0], len(separa[0])))"
      ],
      "execution_count": null,
      "outputs": [
        {
          "name": "stdout",
          "output_type": "stream",
          "text": [
            "Digite seu nome completo: MArcelo Knebek \n",
            "Analisando seu nome ... \n",
            "Seu nome em maiúsculas é MARCELO KNEBEK\n",
            "Seu nome em minúsculas é marcelo knebek\n",
            "Seu nome tem 13 letras\n",
            "Seu primeiro nome é MArcelo e possui 7 letras\n"
          ]
        }
      ]
    },
    {
      "cell_type": "markdown",
      "metadata": {
        "id": "kvG3T5trkHW1"
      },
      "source": [
        "-----\n",
        "#Exercício 23\n",
        "------\n",
        "Faça um programa que leia um número de 0 a 9999 e mostre na tela cada um dos dígitos separados."
      ]
    },
    {
      "cell_type": "code",
      "metadata": {
        "colab": {
          "base_uri": "https://localhost:8080/",
          "height": 265
        },
        "id": "YZ7jxhSAcAWb",
        "outputId": "2ad929e7-bd5e-45d6-d874-7737a7d69353"
      },
      "source": [
        "numero = str (input('Informe um número entre 0 e 9999: '))\n",
        "print('Analisando o numero {}' .format(numero))\n",
        "print('Unidade: {}' .format(numero[3]))\n",
        "print('Dezena: {}' .format(numero[2]))\n",
        "print('Centena: {}' .format(numero[1]))\n",
        "print('Milhar: {}' .format(numero[0]))"
      ],
      "execution_count": null,
      "outputs": [
        {
          "name": "stdout",
          "output_type": "stream",
          "text": [
            "Informe um número entre 0 e 9999: 85\n",
            "Analisando o numero 85\n"
          ]
        },
        {
          "ename": "IndexError",
          "evalue": "ignored",
          "output_type": "error",
          "traceback": [
            "\u001b[0;31m---------------------------------------------------------------------------\u001b[0m",
            "\u001b[0;31mIndexError\u001b[0m                                Traceback (most recent call last)",
            "\u001b[0;32m<ipython-input-1-ac04da6d4674>\u001b[0m in \u001b[0;36m<module>\u001b[0;34m()\u001b[0m\n\u001b[1;32m      1\u001b[0m \u001b[0mnumero\u001b[0m \u001b[0;34m=\u001b[0m \u001b[0mstr\u001b[0m \u001b[0;34m(\u001b[0m\u001b[0minput\u001b[0m\u001b[0;34m(\u001b[0m\u001b[0;34m'Informe um número entre 0 e 9999: '\u001b[0m\u001b[0;34m)\u001b[0m\u001b[0;34m)\u001b[0m\u001b[0;34m\u001b[0m\u001b[0;34m\u001b[0m\u001b[0m\n\u001b[1;32m      2\u001b[0m \u001b[0mprint\u001b[0m\u001b[0;34m(\u001b[0m\u001b[0;34m'Analisando o numero {}'\u001b[0m \u001b[0;34m.\u001b[0m\u001b[0mformat\u001b[0m\u001b[0;34m(\u001b[0m\u001b[0mnumero\u001b[0m\u001b[0;34m)\u001b[0m\u001b[0;34m)\u001b[0m\u001b[0;34m\u001b[0m\u001b[0;34m\u001b[0m\u001b[0m\n\u001b[0;32m----> 3\u001b[0;31m \u001b[0mprint\u001b[0m\u001b[0;34m(\u001b[0m\u001b[0;34m'Unidade: {}'\u001b[0m \u001b[0;34m.\u001b[0m\u001b[0mformat\u001b[0m\u001b[0;34m(\u001b[0m\u001b[0mnumero\u001b[0m\u001b[0;34m[\u001b[0m\u001b[0;36m3\u001b[0m\u001b[0;34m]\u001b[0m\u001b[0;34m)\u001b[0m\u001b[0;34m)\u001b[0m\u001b[0;34m\u001b[0m\u001b[0;34m\u001b[0m\u001b[0m\n\u001b[0m\u001b[1;32m      4\u001b[0m \u001b[0mprint\u001b[0m\u001b[0;34m(\u001b[0m\u001b[0;34m'Dezena: {}'\u001b[0m \u001b[0;34m.\u001b[0m\u001b[0mformat\u001b[0m\u001b[0;34m(\u001b[0m\u001b[0mnumero\u001b[0m\u001b[0;34m[\u001b[0m\u001b[0;36m2\u001b[0m\u001b[0;34m]\u001b[0m\u001b[0;34m)\u001b[0m\u001b[0;34m)\u001b[0m\u001b[0;34m\u001b[0m\u001b[0;34m\u001b[0m\u001b[0m\n\u001b[1;32m      5\u001b[0m \u001b[0mprint\u001b[0m\u001b[0;34m(\u001b[0m\u001b[0;34m'Centena: {}'\u001b[0m \u001b[0;34m.\u001b[0m\u001b[0mformat\u001b[0m\u001b[0;34m(\u001b[0m\u001b[0mnumero\u001b[0m\u001b[0;34m[\u001b[0m\u001b[0;36m1\u001b[0m\u001b[0;34m]\u001b[0m\u001b[0;34m)\u001b[0m\u001b[0;34m)\u001b[0m\u001b[0;34m\u001b[0m\u001b[0;34m\u001b[0m\u001b[0m\n",
            "\u001b[0;31mIndexError\u001b[0m: string index out of range"
          ]
        }
      ]
    },
    {
      "cell_type": "markdown",
      "metadata": {
        "id": "m0z9uWlkUlUU"
      },
      "source": [
        "Ocorre um erro no nosso código se tretarmos a variável como uma string, portatno, devemos tratá-la como numero.\n"
      ]
    },
    {
      "cell_type": "code",
      "metadata": {
        "colab": {
          "base_uri": "https://localhost:8080/"
        },
        "id": "NAAromTXUtSw",
        "outputId": "e06f069b-74b1-4ec4-ee44-9ced5b319510"
      },
      "source": [
        "numero = int (input('Informe um número entre 0 e 9999: '))\n",
        "u = numero // 1 % 10\n",
        "d = numero // 10 % 10\n",
        "c = numero // 100 % 10\n",
        "m = numero // 100 % 10\n",
        "print('Analisando o numero {}' .format(numero))\n",
        "print('Unidade: {}' .format(u))\n",
        "print('Dezena: {}' .format(d))\n",
        "print('Centena: {}' .format(c))\n",
        "print('Milhar: {}' .format(m))"
      ],
      "execution_count": null,
      "outputs": [
        {
          "name": "stdout",
          "output_type": "stream",
          "text": [
            "Informe um número entre 0 e 9999: 50\n",
            "Analisando o numero 50\n",
            "Unidade: 0\n",
            "Dezena: 5\n",
            "Centena: 0\n",
            "Milhar: 0\n"
          ]
        }
      ]
    },
    {
      "cell_type": "markdown",
      "metadata": {
        "id": "P8To0xFlkI3q"
      },
      "source": [
        "-----\n",
        "#Exercício 24\n",
        "------\n",
        "Crie um programa que leia o nome de uma cidade diga se ela começa ou não com o nome “SANTO”."
      ]
    },
    {
      "cell_type": "code",
      "metadata": {
        "colab": {
          "base_uri": "https://localhost:8080/"
        },
        "id": "fnw2Q7oc7kG9",
        "outputId": "8c88b81e-4a05-461d-e803-82cf09bd2761"
      },
      "source": [
        "\n",
        "cidade = str (input('Em qual cidade vocÊ nasceu? ')).strip().upper()\n",
        "print(cidade[:5] == 'SANTO')\n"
      ],
      "execution_count": null,
      "outputs": [
        {
          "name": "stdout",
          "output_type": "stream",
          "text": [
            "Em qual cidade vocÊ nasceu? santo andre\n",
            "True\n"
          ]
        }
      ]
    },
    {
      "cell_type": "markdown",
      "metadata": {
        "id": "eDD4X3tekJ3I"
      },
      "source": [
        "-----\n",
        "#Exercício 25\n",
        "------\n",
        "Crie um programa que leia o nome de uma pessoa e diga se ela tem “SILVA” no nome."
      ]
    },
    {
      "cell_type": "code",
      "metadata": {
        "colab": {
          "base_uri": "https://localhost:8080/"
        },
        "id": "tqb27uMI-bEw",
        "outputId": "07f75d49-ef1f-4625-da5c-55e2d85e78fb"
      },
      "source": [
        "nome = str (input('Qual é o seu nome completo? ')).upper().strip()\n",
        "'SILVA' in nome "
      ],
      "execution_count": null,
      "outputs": [
        {
          "name": "stdout",
          "output_type": "stream",
          "text": [
            "Qual é o seu nome completo?     SIlva    \n"
          ]
        },
        {
          "data": {
            "text/plain": [
              "True"
            ]
          },
          "execution_count": 6,
          "metadata": {
            "tags": []
          },
          "output_type": "execute_result"
        }
      ]
    },
    {
      "cell_type": "markdown",
      "metadata": {
        "id": "UEOTNeuykKzM"
      },
      "source": [
        "-----\n",
        "#Exercício 26\n",
        "------\n",
        "Faça um programa que leia uma frase pelo teclado e mostre quantas vezes aparece a letra “A”, em que posição ela aparece a primeira vez e em que posição ela aparece a última vez."
      ]
    },
    {
      "cell_type": "code",
      "metadata": {
        "colab": {
          "base_uri": "https://localhost:8080/"
        },
        "id": "bUw4Q66S6g-l",
        "outputId": "e4c02c93-4107-4fd6-b5cd-a5ddb8d8da2f"
      },
      "source": [
        "frase = str (input(\"Digite uma frase aqui: \")).lower().strip()\n",
        "print(\"A letra a aparece {} vezes\" .format(frase.count(\"a\")))\n",
        "print('A letra a aparece a primeira vez na {}° posição' .format(frase.find('a') + 1))\n",
        "print('A letra a aparece a ultima vez na {}° posição' .format(frase.rfind('a') + 1)) #a função rfind le a string da direita para a esquerda."
      ],
      "execution_count": null,
      "outputs": [
        {
          "name": "stdout",
          "output_type": "stream",
          "text": [
            "Digite uma frase aqui: MArcelo Knebel\n",
            "A letra a aparece 1 vezes\n",
            "A letra a aparece a primeira vez na 2° posição\n",
            "A letra a aparece a ultima vez na 2° posição\n"
          ]
        }
      ]
    },
    {
      "cell_type": "markdown",
      "metadata": {
        "id": "iNeLIbjxkLWP"
      },
      "source": [
        "-----\n",
        "#Exercício 27\n",
        "------\n",
        "Faça um programa que leia o nome completo de uma pessoa, mostrando em seguida o primeiro e o último nome separadamente."
      ]
    },
    {
      "cell_type": "code",
      "metadata": {
        "colab": {
          "base_uri": "https://localhost:8080/"
        },
        "id": "m3T-fZdQ-jWR",
        "outputId": "04216aa9-f058-4d44-fa47-daeba9e4010d"
      },
      "source": [
        "nome = str (input('Digite seu nome completo')).strip()\n",
        "separa = nome.split()\n",
        "print('Muito prazer em te conhecer {}' .format(nome))\n",
        "print('Seu primeiro nome é {}' .format(separa[0]))\n",
        "print('Seu último nome é {}' .format(separa[len(separa) - 1]))"
      ],
      "execution_count": null,
      "outputs": [
        {
          "name": "stdout",
          "output_type": "stream",
          "text": [
            "Digite seu nome completoNeli teresinha fonseca knebel \n",
            "Muito prazer em te conhecer Neli teresinha fonseca knebel\n",
            "Seu primeiro nome é Neli\n",
            "Seu último nome é knebel\n"
          ]
        }
      ]
    },
    {
      "cell_type": "markdown",
      "metadata": {
        "id": "TRUzCw8n5l8k"
      },
      "source": [
        "-----\n",
        "#Exercício 28\n",
        "------\n",
        "Escreva um programa que faça o computador “pensar” em um número inteiro entre 0 e 5 e peça para o usuário tentar descobrir qual foi o número escolhido pelo computador. O programa deverá escrever na tela se o usuário venceu ou perdeu."
      ]
    },
    {
      "cell_type": "code",
      "metadata": {
        "colab": {
          "base_uri": "https://localhost:8080/"
        },
        "id": "-y9WZ6C856zI",
        "outputId": "35894e7a-8e1a-447c-c65f-7b8d9f17b474"
      },
      "source": [
        "import random\n",
        "from time import sleep #Faz o computador dormir por alguns segundos\n",
        "print('-=-' * 10)\n",
        "print('Vou pensar em um número....')\n",
        "print('-=-' * 10)\n",
        "print('Processando...')\n",
        "sleep(3) #o computador esperará 3 segundos \n",
        "numero = random.randint(0, 5)\n",
        "chute =  int (input('Chute um numero de 0 à 5: '))\n",
        "\n",
        "if chute != numero:\n",
        "    print('Você errou!!')\n",
        "else:\n",
        "    print('Você acertou!!')\n",
        "print(numero) #verificando o numero "
      ],
      "execution_count": null,
      "outputs": [
        {
          "name": "stdout",
          "output_type": "stream",
          "text": [
            "-=--=--=--=--=--=--=--=--=--=-\n",
            "Vou pensar em um número....\n",
            "-=--=--=--=--=--=--=--=--=--=-\n",
            "Processando...\n",
            "Chute um numero de 0 à 5: 9\n",
            "Você errou!!\n",
            "0\n"
          ]
        }
      ]
    },
    {
      "cell_type": "markdown",
      "metadata": {
        "id": "f_DL4ozN5mok"
      },
      "source": [
        "-----\n",
        "#Exercício 29\n",
        "------\n",
        "Escreva um programa que leia a velocidade de um carro. Se ele ultrapassar 80Km/h, mostre uma mensagem dizendo que ele foi multado. A multa vai custar R$7,00 por cada Km acima do limite.\n"
      ]
    },
    {
      "cell_type": "code",
      "metadata": {
        "colab": {
          "base_uri": "https://localhost:8080/"
        },
        "id": "-JPI_8FC-oZf",
        "outputId": "dad86df6-34a0-40cd-c474-d35cb8b4285f"
      },
      "source": [
        "velocidade = float (input('Qual a velocidade atual do carro? '))\n",
        "if velocidade <= 80:\n",
        "    print('Tenha um bom dia! Dirija com segurança!')\n",
        "else:\n",
        "    multa = (velocidade - 80) * 7\n",
        "    print('MULTADO! Você excedeu o limite permitido que é de 80km/h. \\nVocê deve pagar uma multa de R${:.2f}' .format(multa))\n",
        "print('Tenha um bom dia! Dirija com segurança!!')"
      ],
      "execution_count": null,
      "outputs": [
        {
          "name": "stdout",
          "output_type": "stream",
          "text": [
            "Qual a velocidade atual do carro? 120\n",
            "MULTADO! Você excedeu o limite permitido que é de 80km/h. \n",
            "Você deve pagar uma multa de R$280.00\n",
            "Tenha um bom dia! Dirija com segurança!!\n"
          ]
        }
      ]
    },
    {
      "cell_type": "markdown",
      "metadata": {
        "id": "iKzQKlIe5m-d"
      },
      "source": [
        "-----\n",
        "#Exercício 30\n",
        "------\n",
        "Crie um programa que leia um número inteiro e mostre na tela se ele é PAR ou ÍMPAR."
      ]
    },
    {
      "cell_type": "code",
      "metadata": {
        "colab": {
          "base_uri": "https://localhost:8080/"
        },
        "id": "I0-7ZwgrBWmO",
        "outputId": "fe4ecfc9-cefb-4b69-b815-8b59fdd235fc"
      },
      "source": [
        "numero = int (input('Digite um número inteiro: '))\n",
        "resto = numero % 2\n",
        "if resto != 0:\n",
        "    print('O número {} é impar' .format(numero))\n",
        "else:\n",
        "    print('O número {} é par' .format(numero)) "
      ],
      "execution_count": null,
      "outputs": [
        {
          "name": "stdout",
          "output_type": "stream",
          "text": [
            "Digite um número inteiro: 5\n",
            "O número 5 é impar\n"
          ]
        }
      ]
    },
    {
      "cell_type": "markdown",
      "metadata": {
        "id": "USH91tON5ncJ"
      },
      "source": [
        "-----\n",
        "#Exercício 31\n",
        "------\n",
        "Desenvolva um programa que pergunte a distância de uma viagem em Km. Calcule o preço da passagem, cobrando 0,50 por Km para viagens de até 200Km e 0,45 parta viagens mais longas."
      ]
    },
    {
      "cell_type": "code",
      "metadata": {
        "colab": {
          "base_uri": "https://localhost:8080/"
        },
        "id": "HTNZWAMQDaRg",
        "outputId": "c30eefa1-49df-44f8-ba80-40642fa046dc"
      },
      "source": [
        "print('-=-=-' * 10)\n",
        "print('       Bom dia!      ')\n",
        "print('-=-=-' * 10)\n",
        "distancia = float (input('Qual é a distância da sua viagem em km: '))\n",
        "if distancia <= 200:\n",
        "    preco = distancia * 0.5 \n",
        "else:\n",
        "    preco = distancia * 0.45\n",
        "print('O valor da sua passagem será de R${:.2f}' .format(preco))"
      ],
      "execution_count": null,
      "outputs": [
        {
          "name": "stdout",
          "output_type": "stream",
          "text": [
            "-=-=--=-=--=-=--=-=--=-=--=-=--=-=--=-=--=-=--=-=-\n",
            "       Bom dia!      \n",
            "-=-=--=-=--=-=--=-=--=-=--=-=--=-=--=-=--=-=--=-=-\n",
            "Qual é a distância da sua viagem em km: 150\n",
            "O valor da sua passagem será de R$75.00\n"
          ]
        }
      ]
    },
    {
      "cell_type": "markdown",
      "metadata": {
        "id": "u2lwPAi35nxR"
      },
      "source": [
        "-----\n",
        "#Exercício 32\n",
        "------\n",
        "Faça um programa que leia um ano qualquer e mostre se ele é bissexto."
      ]
    },
    {
      "cell_type": "code",
      "metadata": {
        "colab": {
          "base_uri": "https://localhost:8080/"
        },
        "id": "QyAT1j5u1D9E",
        "outputId": "9101b88b-f4aa-488d-e938-318e46807c31"
      },
      "source": [
        "from datetime import date\n",
        "ano = int (input('Digite um ano qualquer: '))\n",
        "if ano == 0:\n",
        "      ano = date.today().year\n",
        "if ano % 4 == 0 and ano % 100 != 0 or ano % 400 == 0:\n",
        "      print('O ano {} é bissexto' .format(ano))\n",
        "else:\n",
        "      print('AO ano {} não é bissexto' .format(ano))\n",
        "print(bissexto)"
      ],
      "execution_count": null,
      "outputs": [
        {
          "name": "stdout",
          "output_type": "stream",
          "text": [
            "Digite um ano qualquer: 0\n",
            "AO ano 2021 não é bissexto\n",
            "0\n"
          ]
        }
      ]
    },
    {
      "cell_type": "markdown",
      "metadata": {
        "id": "AiKqbak55oDq"
      },
      "source": [
        "-----\n",
        "#Exercício 33\n",
        "------\n",
        "Faça um programa que leia três números e mostre qual é o maior e qual é o menor."
      ]
    },
    {
      "cell_type": "code",
      "metadata": {
        "colab": {
          "base_uri": "https://localhost:8080/"
        },
        "id": "NAYrjKoc5Jxo",
        "outputId": "cf872bba-706e-47ef-e5ca-fc951931aa25"
      },
      "source": [
        "a = float (input('Digite um numero: '))\n",
        "b = float (input('Digite um numero: '))\n",
        "c = float (input('Digite um numero: '))\n",
        "menor = a\n",
        "if a > b and c > b:\n",
        "    menor = b\n",
        "if a > c and b > c:\n",
        "    menor = c\n",
        "\n",
        "maior = a\n",
        "if c > a and c > b :\n",
        "    maior = c\n",
        "if b > c and b > a:\n",
        "    maior = b\n",
        "print('O maior numero entre os que você digitou é {} e o menor é o numero {}' .format(maior, menor))"
      ],
      "execution_count": null,
      "outputs": [
        {
          "name": "stdout",
          "output_type": "stream",
          "text": [
            "Digite um numero: 1\n",
            "Digite um numero: 2\n",
            "Digite um numero: 3\n",
            "O maior numero entre os que você digitou é 3.0 e o menor é o numero 1.0\n"
          ]
        }
      ]
    },
    {
      "cell_type": "markdown",
      "metadata": {
        "id": "pLvD4NrR5oXN"
      },
      "source": [
        "-----\n",
        "#Exercício 34\n",
        "------\n",
        "Escreva um programa que pergunte o salário de um funcionário e calcule o valor do seu aumento. Para salários superiores a R$1250,00, calcule um aumento de 10%. Para os inferiores ou iguais, o aumento é de 15%."
      ]
    },
    {
      "cell_type": "code",
      "metadata": {
        "colab": {
          "base_uri": "https://localhost:8080/"
        },
        "id": "kgaR0PW1EaY4",
        "outputId": "11742244-e4db-4064-f468-a8fba674fe5c"
      },
      "source": [
        "salario = float (input('Qual o salário do funcionário? R$'))\n",
        "if salario > 1250:\n",
        "    aumento = salario * 1.1\n",
        "else:\n",
        "    aumento = salario * 1.15\n",
        "print('Seu salário é de {} e, após o aumento, será de {:.2f}' .format(salario, aumento))"
      ],
      "execution_count": null,
      "outputs": [
        {
          "name": "stdout",
          "output_type": "stream",
          "text": [
            "Qual o salário do funcionário? R$9000\n",
            "Seu salário é de 9000.0 e, após o aumento, será de 9900.00\n"
          ]
        }
      ]
    },
    {
      "cell_type": "markdown",
      "metadata": {
        "id": "6czA8RPy5osJ"
      },
      "source": [
        "-----\n",
        "#Exercício 35\n",
        "------\n",
        "Desenvolva um programa que leia o comprimento de três retas e diga ao usuário se elas podem ou não formar um triângulo."
      ]
    },
    {
      "cell_type": "code",
      "metadata": {
        "colab": {
          "base_uri": "https://localhost:8080/"
        },
        "id": "1Rz9FkV8Ggs5",
        "outputId": "60075177-c05a-49bc-e8f5-4ea98993e462"
      },
      "source": [
        "print('-=-= ' * 10)\n",
        "print('Analisador de Triângulos')\n",
        "print('-=-=' * 10)\n",
        "a = float (input('Primeiro segmento: '))\n",
        "b = float (input('Segundo segmento: '))\n",
        "c = float (input('Terceiro segmento: '))\n",
        "if a < b + c and b < a + c and c < b + a and a > abs(b - c) and b > abs(a - c) and c > abs(a - b):\n",
        "  print('Os segmentos acima PODEM formar um triângulo')\n",
        "else: \n",
        "  print('Os segmentos acima não formam um triângulo')\n",
        "   "
      ],
      "execution_count": null,
      "outputs": [
        {
          "name": "stdout",
          "output_type": "stream",
          "text": [
            "-=-= -=-= -=-= -=-= -=-= -=-= -=-= -=-= -=-= -=-= \n",
            "Analisador de Triângulos\n",
            "-=-=-=-=-=-=-=-=-=-=-=-=-=-=-=-=-=-=-=-=\n",
            "Primeiro segmento: 3\n",
            "Segundo segmento: 4\n",
            "Terceiro segmento: 5\n",
            "Os segmentos acima PODEM formar um triângulo\n"
          ]
        }
      ]
    },
    {
      "cell_type": "markdown",
      "metadata": {
        "id": "Bx-5fUcAs3Zb"
      },
      "source": [
        "-----\n",
        "#Exercício 36\n",
        "------\n",
        "Escreva um programa para aprovar o empréstimo bancário para a compra de uma casa. Pergunte o valor da casa, o salário do comprador e em quantos anos ele vai pagar. A prestação mensal não pode exceder 30% do salário ou então o empréstimo será negado."
      ]
    },
    {
      "cell_type": "code",
      "metadata": {
        "colab": {
          "base_uri": "https://localhost:8080/"
        },
        "id": "QGA3AtQZtWN8",
        "outputId": "dff79034-3b18-4168-e6f2-1bd02cf099c2"
      },
      "source": [
        "casa = float (input('Qual o valor da casa? R$'))\n",
        "salario = float (input('Qual o seu salário? R$'))\n",
        "anos = int (input('Em quantos anos você gostaria de pagar a casa?'))\n",
        "\n",
        "meses = anos * 12\n",
        "emprestimo = casa / meses \n",
        "\n",
        "print('Para pagar a casa de R${:.2f} em {} anos, a prestação será de R${:.2f}' .format(casa, anos, emprestimo))\n",
        "if emprestimo > salario * 0.3:\n",
        "    print('Seu empréstimo está \\033[1;31m negado')\n",
        "else:\n",
        "    print('Empréstimo foi \\033[1;32m concedido')\n"
      ],
      "execution_count": null,
      "outputs": [
        {
          "name": "stdout",
          "output_type": "stream",
          "text": [
            "Qual o valor da casa? R$80000\n",
            "Qual o seu salário? R$12000\n",
            "Em quantos anos você gostaria de pagar a casa?8\n",
            "Para pagar a casa de R$80000.00 em 8 anos, a prestação será de R$833.33\n",
            "Empréstimo foi \u001b[1;32m concedido\n"
          ]
        }
      ]
    },
    {
      "cell_type": "markdown",
      "metadata": {
        "id": "4EPwnYcrs3uS"
      },
      "source": [
        "-----\n",
        "#Exercício 37\n",
        "------\n",
        "Escreva um programa em Python que leia um número inteiro qualquer e peça para o usuário escolher qual será a base de conversão: 1 para binário, 2 para octal e 3 para hexadecimal.\n"
      ]
    },
    {
      "cell_type": "code",
      "metadata": {
        "colab": {
          "base_uri": "https://localhost:8080/"
        },
        "id": "I6zRPzx3US6Y",
        "outputId": "85fe3d47-2c40-4ee9-ac53-02c7c02c6d58"
      },
      "source": [
        "num = int (input('Digite um número inteiro: '))\n",
        "print('''Escolha uma das bases para conversão:\n",
        "[1] converter para BINÁRIO\n",
        "[2] converter para OCTAL\n",
        "[3] converter para HEXADECIMAL''')\n",
        "opcao = int (input('Sua opção: '))\n",
        "if opcao == 1:\n",
        "    print('{} convertido para BINÁRIO é igual à {}' .format(num, bin(num)[2:]))\n",
        "elif opcao == 2:\n",
        "    print('{} convertido para OCTAl é igual à {}' .format(num, oct(num)[2:]))\n",
        "elif opcao == 3:\n",
        "    print('{} convertido para HEXADECIMAL é igual à {}' .format(num, hex(num)[2:]))\n",
        "else:\n",
        "    print('Opção inválida, tente novamente')\n"
      ],
      "execution_count": null,
      "outputs": [
        {
          "name": "stdout",
          "output_type": "stream",
          "text": [
            "Digite um número inteiro: 542\n",
            "Escolha uma das bases para conversão:\n",
            "[1] converter para BINÁRIO\n",
            "[2] converter para OCTAL\n",
            "[3] converter para HEXADECIMAL\n",
            "Sua opção: 1\n",
            "542 convertido para BINÁRIO é igual à 1000011110\n"
          ]
        }
      ]
    },
    {
      "cell_type": "markdown",
      "metadata": {
        "id": "hIhvg__xs4GN"
      },
      "source": [
        "-----\n",
        "#Exercício 38\n",
        "------\n",
        "Escreva um programa que leia dois números inteiros e compare-os. mostrando na tela uma mensagem:\n",
        "\n",
        "– O primeiro valor é maior\n",
        "\n",
        "– O segundo valor é maior\n",
        "\n",
        "– Não existe valor maior, os dois são iguais"
      ]
    },
    {
      "cell_type": "code",
      "metadata": {
        "colab": {
          "base_uri": "https://localhost:8080/"
        },
        "id": "ixmEu3VPmNq1",
        "outputId": "8278f74d-c7c1-475f-b635-6a1d62ad8fef"
      },
      "source": [
        "num1 = int (input('Digite um numero inteiro: '))\n",
        "num2 = int (input('Digite outro número inteiro: '))\n",
        "if num1 > num2:\n",
        "    print('O número {} é maior que o número {}' .format(num1, num2))\n",
        "elif num2 > num1:\n",
        "    print('O numero {} é maior que o número {}' .format(num2,num1))\n",
        "else:\n",
        "    print('Não existe valor maior. Os dois valores são iguais')\n"
      ],
      "execution_count": null,
      "outputs": [
        {
          "name": "stdout",
          "output_type": "stream",
          "text": [
            "Digite um numero inteiro: 1\n",
            "Digite outro número inteiro: 1\n",
            "Não existe valor maior. Os dois valores são iguais\n"
          ]
        }
      ]
    },
    {
      "cell_type": "markdown",
      "metadata": {
        "id": "-UrBnV8is4e5"
      },
      "source": [
        "-----\n",
        "#Exercício 39\n",
        "------\n",
        "Faça um programa que leia o ano de nascimento de um jovem e informe, de acordo com a sua idade, se ele ainda vai se alistar ao serviço militar, se é a hora exata de se alistar ou se já passou do tempo do alistamento. Seu programa também deverá mostrar o tempo que falta ou que passou do prazo."
      ]
    },
    {
      "cell_type": "code",
      "metadata": {
        "colab": {
          "base_uri": "https://localhost:8080/"
        },
        "id": "Ywj_vEidoFSF",
        "outputId": "38e318be-0cfd-4cb4-a473-cb489485faa2"
      },
      "source": [
        "from datetime import date\n",
        "nascimento = int (input('Ano de nascimento: '))\n",
        "atual = date.today().year #vai pegar o ano atual\n",
        "prazo = nascimento + 18\n",
        "if atual - nascimento == 18:\n",
        "    print('Esse ano de {} é o ano de se alistar.' .format(ano))\n",
        "elif atual - nascimento > 18:\n",
        "    print('Você deveria ter se alistado em {}' .format(prazo))\n",
        "elif atual - nascimento < 18:\n",
        "    print('Você deverá se alistar somente em {}' .format(prazo))"
      ],
      "execution_count": null,
      "outputs": [
        {
          "name": "stdout",
          "output_type": "stream",
          "text": [
            "Ano de nascimento: 2004\n",
            "Você deverá se alistar somente em 2022\n"
          ]
        }
      ]
    },
    {
      "cell_type": "code",
      "metadata": {
        "colab": {
          "base_uri": "https://localhost:8080/"
        },
        "id": "zmdi-P3EfbMg",
        "outputId": "b27ae8f9-4140-4b8c-b918-bacae769211e"
      },
      "source": [
        "#------------ MELHORIA DO PROGRAMA ANTERIOR ------------#\n",
        "\n",
        "from datetime import date\n",
        "\n",
        "nascimento = int (input('QUal ano você nasceu? '))\n",
        "\n",
        "atual = date.today().year\n",
        "idade = atual - nascimento\n",
        "\n",
        "if idade == 18:\n",
        "  print('Esse ano {} é o ano de seu alistamento militar.' .format(atual))\n",
        "elif idade < 18:\n",
        "  alistamento = nascimento + 18\n",
        "  ano = 18 - idade \n",
        "  print('Você deverá se alistar no ano de {}. Assim, falta {} anos para o seu alistamento militar' .format(alistamento, ano))\n",
        "elif idade > 18:\n",
        "  alistamento = nascimento + 18\n",
        "  ano = idade - 18 \n",
        "  print('Você deveria ter se alistado no ano de {} e já se passaram {} anos' .format(alistamento, ano))"
      ],
      "execution_count": null,
      "outputs": [
        {
          "name": "stdout",
          "output_type": "stream",
          "text": [
            "QUal ano você nasceu? 1963\n",
            "Você deveria ter se alistado no ano de 1981 e já se passaram 40 anos\n"
          ]
        }
      ]
    },
    {
      "cell_type": "markdown",
      "metadata": {
        "id": "3gCu4Uxxs4xk"
      },
      "source": [
        "-----\n",
        "#Exercício 40\n",
        "------\n",
        "Crie um programa que leia duas notas de um aluno e calcule sua média, mostrando uma mensagem no final, de acordo com a média atingida:\n",
        "\n",
        "– Média abaixo de 5.0: REPROVADO\n",
        "\n",
        "– Média entre 5.0 e 6.9: RECUPERAÇÃO\n",
        "\n",
        "– Média 7.0 ou superior: APROVADO"
      ]
    },
    {
      "cell_type": "code",
      "metadata": {
        "colab": {
          "base_uri": "https://localhost:8080/"
        },
        "id": "Ky115KPxhsV6",
        "outputId": "2305586d-eeb3-48a7-be58-ea74e90c27b7"
      },
      "source": [
        "n1 = float (input('Nota da primeira área: '))\n",
        "n2 = float (input('Nota da segunda área: '))\n",
        "\n",
        "media = (n1 + n2) / 2\n",
        "\n",
        "if media <= 5.:\n",
        "  print('Você foi\\033[1;31m REPROVADO\\033[0;0m e não tem direito à recuperação e sua média foi de {:.2f}' .format(media))\n",
        "elif 5.0 <= media <= 6.9:\n",
        "  print('Você não passou mas tem direito à \\033[1;33m RECUPERAÇÃO\\033[0;0m e sua média foi de {:.2f}' .format(media)) \n",
        "elif media >= 7:\n",
        "  print('Parabéns, você foi \\033[1;32m APROVADO \\033[0;0m e sua média foi de {:.2f}' .format(media))"
      ],
      "execution_count": null,
      "outputs": [
        {
          "name": "stdout",
          "output_type": "stream",
          "text": [
            "Nota da primeira área: 8\n",
            "Nota da segunda área: 6\n",
            "Nota da terceira área0.1\n",
            "Você foi\u001b[1;31m REPROVADO\u001b[0;0m e não tem direito à recuperação e sua média foi de 4.70\n"
          ]
        }
      ]
    },
    {
      "cell_type": "markdown",
      "metadata": {
        "id": "qYTKJ1L9ners"
      },
      "source": [
        "-----\n",
        "#Exercício 41\n",
        "------\n",
        "A Confederação Nacional de Natação precisa de um programa que leia o ano de nascimento de um atleta e mostre sua categoria, de acordo com a idade:\n",
        "\n",
        "– Até 9 anos: MIRIM\n",
        "\n",
        "– Até 14 anos: INFANTIL\n",
        "\n",
        "– Até 19 anos: JÚNIOR\n",
        "\n",
        "– Até 25 anos: SÊNIOR\n",
        "\n",
        "– Acima de 25 anos: MASTER"
      ]
    },
    {
      "cell_type": "code",
      "metadata": {
        "colab": {
          "base_uri": "https://localhost:8080/"
        },
        "id": "IjAoj4YgnrHc",
        "outputId": "380ea8ac-83fc-40e8-e3d2-4389f622d9b2"
      },
      "source": [
        "from datetime import date\n",
        "\n",
        "nascimento = int (input('Ano de Nascimento: '))\n",
        "ano = date.today().year\n",
        "idade = ano - nascimento\n",
        "\n",
        "print('O atleta tem {} anos.' .format(idade))\n",
        "\n",
        "if idade <= 9:\n",
        "  print('O atleta é da classe MIRIM')\n",
        "elif 9 < idade <= 14:\n",
        "  print('O atleta é INFANTIL')\n",
        "elif 14 < idade <= 19:\n",
        "  print('O atleta é JÚNIOR')\n",
        "elif 19 < idade <= 25:\n",
        "  print('O atleta é SÊNIOR')\n",
        "elif idadade > 25:\n",
        "  print('O atleta é MASTER')"
      ],
      "execution_count": null,
      "outputs": [
        {
          "name": "stdout",
          "output_type": "stream",
          "text": [
            "Ano de Nascimento: 1998\n",
            "O atleta tem 23 anos.\n",
            "O atleta é SÊNIOR\n"
          ]
        }
      ]
    },
    {
      "cell_type": "markdown",
      "metadata": {
        "id": "70z2RQXpnhTe"
      },
      "source": [
        "-----\n",
        "#Exercício 42\n",
        "------\n",
        "Refaça o DESAFIO 35 dos triângulos, acrescentando o recurso de mostrar que tipo de triângulo será formado:\n",
        "\n",
        "– EQUILÁTERO: todos os lados iguais\n",
        "\n",
        "– ISÓSCELES: dois lados iguais, um diferente\n",
        "\n",
        "– ESCALENO: todos os lados diferentes"
      ]
    },
    {
      "cell_type": "code",
      "metadata": {
        "colab": {
          "base_uri": "https://localhost:8080/",
          "height": 578
        },
        "id": "peoXl9yKqWfC",
        "outputId": "f9e83c57-72dc-4b23-eea0-5156f4c2adb7"
      },
      "source": [
        "print('-=-=' * 10)\n",
        "print('Analisador de Triângulos')\n",
        "print('-=-=' * 10)\n",
        "a = float (input('Primeiro segmento: '))\n",
        "b = float (input('Segundo segmento: '))\n",
        "c = float (input('Terceiro segmento: '))\n",
        "if a < b + c and b < a + c and c < b + a and a > abs(b - c) and b > abs(a - c) and c > abs(a - b):\n",
        "  print('Esses pontos podem formar um triangulo e ele será ', end = '')\n",
        "  if a == b == c:\n",
        "    print('EQUILÁTERO')\n",
        "  elif a != b and a != c and b != c:\n",
        "    print('ESCALENO') \n",
        "  else: \n",
        "    print('ISÓSCELES')\n",
        "else:\n",
        "  print('Essses pontos nã podem formar um triângulo')\n",
        "   "
      ],
      "execution_count": null,
      "outputs": [
        {
          "name": "stdout",
          "output_type": "stream",
          "text": [
            "-=-=-=-=-=-=-=-=-=-=-=-=-=-=-=-=-=-=-=-=\n",
            "Analisador de Triângulos\n",
            "-=-=-=-=-=-=-=-=-=-=-=-=-=-=-=-=-=-=-=-=\n"
          ]
        },
        {
          "ename": "KeyboardInterrupt",
          "evalue": "ignored",
          "output_type": "error",
          "traceback": [
            "\u001b[0;31m---------------------------------------------------------------------------\u001b[0m",
            "\u001b[0;31mKeyboardInterrupt\u001b[0m                         Traceback (most recent call last)",
            "\u001b[0;32m/usr/local/lib/python3.7/dist-packages/ipykernel/kernelbase.py\u001b[0m in \u001b[0;36m_input_request\u001b[0;34m(self, prompt, ident, parent, password)\u001b[0m\n\u001b[1;32m    728\u001b[0m             \u001b[0;32mtry\u001b[0m\u001b[0;34m:\u001b[0m\u001b[0;34m\u001b[0m\u001b[0;34m\u001b[0m\u001b[0m\n\u001b[0;32m--> 729\u001b[0;31m                 \u001b[0mident\u001b[0m\u001b[0;34m,\u001b[0m \u001b[0mreply\u001b[0m \u001b[0;34m=\u001b[0m \u001b[0mself\u001b[0m\u001b[0;34m.\u001b[0m\u001b[0msession\u001b[0m\u001b[0;34m.\u001b[0m\u001b[0mrecv\u001b[0m\u001b[0;34m(\u001b[0m\u001b[0mself\u001b[0m\u001b[0;34m.\u001b[0m\u001b[0mstdin_socket\u001b[0m\u001b[0;34m,\u001b[0m \u001b[0;36m0\u001b[0m\u001b[0;34m)\u001b[0m\u001b[0;34m\u001b[0m\u001b[0;34m\u001b[0m\u001b[0m\n\u001b[0m\u001b[1;32m    730\u001b[0m             \u001b[0;32mexcept\u001b[0m \u001b[0mException\u001b[0m\u001b[0;34m:\u001b[0m\u001b[0;34m\u001b[0m\u001b[0;34m\u001b[0m\u001b[0m\n",
            "\u001b[0;32m/usr/local/lib/python3.7/dist-packages/jupyter_client/session.py\u001b[0m in \u001b[0;36mrecv\u001b[0;34m(self, socket, mode, content, copy)\u001b[0m\n\u001b[1;32m    802\u001b[0m         \u001b[0;32mtry\u001b[0m\u001b[0;34m:\u001b[0m\u001b[0;34m\u001b[0m\u001b[0;34m\u001b[0m\u001b[0m\n\u001b[0;32m--> 803\u001b[0;31m             \u001b[0mmsg_list\u001b[0m \u001b[0;34m=\u001b[0m \u001b[0msocket\u001b[0m\u001b[0;34m.\u001b[0m\u001b[0mrecv_multipart\u001b[0m\u001b[0;34m(\u001b[0m\u001b[0mmode\u001b[0m\u001b[0;34m,\u001b[0m \u001b[0mcopy\u001b[0m\u001b[0;34m=\u001b[0m\u001b[0mcopy\u001b[0m\u001b[0;34m)\u001b[0m\u001b[0;34m\u001b[0m\u001b[0;34m\u001b[0m\u001b[0m\n\u001b[0m\u001b[1;32m    804\u001b[0m         \u001b[0;32mexcept\u001b[0m \u001b[0mzmq\u001b[0m\u001b[0;34m.\u001b[0m\u001b[0mZMQError\u001b[0m \u001b[0;32mas\u001b[0m \u001b[0me\u001b[0m\u001b[0;34m:\u001b[0m\u001b[0;34m\u001b[0m\u001b[0;34m\u001b[0m\u001b[0m\n",
            "\u001b[0;32m/usr/local/lib/python3.7/dist-packages/zmq/sugar/socket.py\u001b[0m in \u001b[0;36mrecv_multipart\u001b[0;34m(self, flags, copy, track)\u001b[0m\n\u001b[1;32m    582\u001b[0m         \"\"\"\n\u001b[0;32m--> 583\u001b[0;31m         \u001b[0mparts\u001b[0m \u001b[0;34m=\u001b[0m \u001b[0;34m[\u001b[0m\u001b[0mself\u001b[0m\u001b[0;34m.\u001b[0m\u001b[0mrecv\u001b[0m\u001b[0;34m(\u001b[0m\u001b[0mflags\u001b[0m\u001b[0;34m,\u001b[0m \u001b[0mcopy\u001b[0m\u001b[0;34m=\u001b[0m\u001b[0mcopy\u001b[0m\u001b[0;34m,\u001b[0m \u001b[0mtrack\u001b[0m\u001b[0;34m=\u001b[0m\u001b[0mtrack\u001b[0m\u001b[0;34m)\u001b[0m\u001b[0;34m]\u001b[0m\u001b[0;34m\u001b[0m\u001b[0;34m\u001b[0m\u001b[0m\n\u001b[0m\u001b[1;32m    584\u001b[0m         \u001b[0;31m# have first part already, only loop while more to receive\u001b[0m\u001b[0;34m\u001b[0m\u001b[0;34m\u001b[0m\u001b[0;34m\u001b[0m\u001b[0m\n",
            "\u001b[0;32mzmq/backend/cython/socket.pyx\u001b[0m in \u001b[0;36mzmq.backend.cython.socket.Socket.recv\u001b[0;34m()\u001b[0m\n",
            "\u001b[0;32mzmq/backend/cython/socket.pyx\u001b[0m in \u001b[0;36mzmq.backend.cython.socket.Socket.recv\u001b[0;34m()\u001b[0m\n",
            "\u001b[0;32mzmq/backend/cython/socket.pyx\u001b[0m in \u001b[0;36mzmq.backend.cython.socket._recv_copy\u001b[0;34m()\u001b[0m\n",
            "\u001b[0;32m/usr/local/lib/python3.7/dist-packages/zmq/backend/cython/checkrc.pxd\u001b[0m in \u001b[0;36mzmq.backend.cython.checkrc._check_rc\u001b[0;34m()\u001b[0m\n",
            "\u001b[0;31mKeyboardInterrupt\u001b[0m: ",
            "\nDuring handling of the above exception, another exception occurred:\n",
            "\u001b[0;31mKeyboardInterrupt\u001b[0m                         Traceback (most recent call last)",
            "\u001b[0;32m<ipython-input-8-a3370c498c6c>\u001b[0m in \u001b[0;36m<module>\u001b[0;34m()\u001b[0m\n\u001b[1;32m      2\u001b[0m \u001b[0mprint\u001b[0m\u001b[0;34m(\u001b[0m\u001b[0;34m'Analisador de Triângulos'\u001b[0m\u001b[0;34m)\u001b[0m\u001b[0;34m\u001b[0m\u001b[0;34m\u001b[0m\u001b[0m\n\u001b[1;32m      3\u001b[0m \u001b[0mprint\u001b[0m\u001b[0;34m(\u001b[0m\u001b[0;34m'-=-='\u001b[0m \u001b[0;34m*\u001b[0m \u001b[0;36m10\u001b[0m\u001b[0;34m)\u001b[0m\u001b[0;34m\u001b[0m\u001b[0;34m\u001b[0m\u001b[0m\n\u001b[0;32m----> 4\u001b[0;31m \u001b[0ma\u001b[0m \u001b[0;34m=\u001b[0m \u001b[0mfloat\u001b[0m \u001b[0;34m(\u001b[0m\u001b[0minput\u001b[0m\u001b[0;34m(\u001b[0m\u001b[0;34m'Primeiro segmento: '\u001b[0m\u001b[0;34m)\u001b[0m\u001b[0;34m)\u001b[0m\u001b[0;34m\u001b[0m\u001b[0;34m\u001b[0m\u001b[0m\n\u001b[0m\u001b[1;32m      5\u001b[0m \u001b[0mb\u001b[0m \u001b[0;34m=\u001b[0m \u001b[0mfloat\u001b[0m \u001b[0;34m(\u001b[0m\u001b[0minput\u001b[0m\u001b[0;34m(\u001b[0m\u001b[0;34m'Segundo segmento: '\u001b[0m\u001b[0;34m)\u001b[0m\u001b[0;34m)\u001b[0m\u001b[0;34m\u001b[0m\u001b[0;34m\u001b[0m\u001b[0m\n\u001b[1;32m      6\u001b[0m \u001b[0mc\u001b[0m \u001b[0;34m=\u001b[0m \u001b[0mfloat\u001b[0m \u001b[0;34m(\u001b[0m\u001b[0minput\u001b[0m\u001b[0;34m(\u001b[0m\u001b[0;34m'Terceiro segmento: '\u001b[0m\u001b[0;34m)\u001b[0m\u001b[0;34m)\u001b[0m\u001b[0;34m\u001b[0m\u001b[0;34m\u001b[0m\u001b[0m\n",
            "\u001b[0;32m/usr/local/lib/python3.7/dist-packages/ipykernel/kernelbase.py\u001b[0m in \u001b[0;36mraw_input\u001b[0;34m(self, prompt)\u001b[0m\n\u001b[1;32m    702\u001b[0m             \u001b[0mself\u001b[0m\u001b[0;34m.\u001b[0m\u001b[0m_parent_ident\u001b[0m\u001b[0;34m,\u001b[0m\u001b[0;34m\u001b[0m\u001b[0;34m\u001b[0m\u001b[0m\n\u001b[1;32m    703\u001b[0m             \u001b[0mself\u001b[0m\u001b[0;34m.\u001b[0m\u001b[0m_parent_header\u001b[0m\u001b[0;34m,\u001b[0m\u001b[0;34m\u001b[0m\u001b[0;34m\u001b[0m\u001b[0m\n\u001b[0;32m--> 704\u001b[0;31m             \u001b[0mpassword\u001b[0m\u001b[0;34m=\u001b[0m\u001b[0;32mFalse\u001b[0m\u001b[0;34m,\u001b[0m\u001b[0;34m\u001b[0m\u001b[0;34m\u001b[0m\u001b[0m\n\u001b[0m\u001b[1;32m    705\u001b[0m         )\n\u001b[1;32m    706\u001b[0m \u001b[0;34m\u001b[0m\u001b[0m\n",
            "\u001b[0;32m/usr/local/lib/python3.7/dist-packages/ipykernel/kernelbase.py\u001b[0m in \u001b[0;36m_input_request\u001b[0;34m(self, prompt, ident, parent, password)\u001b[0m\n\u001b[1;32m    732\u001b[0m             \u001b[0;32mexcept\u001b[0m \u001b[0mKeyboardInterrupt\u001b[0m\u001b[0;34m:\u001b[0m\u001b[0;34m\u001b[0m\u001b[0;34m\u001b[0m\u001b[0m\n\u001b[1;32m    733\u001b[0m                 \u001b[0;31m# re-raise KeyboardInterrupt, to truncate traceback\u001b[0m\u001b[0;34m\u001b[0m\u001b[0;34m\u001b[0m\u001b[0;34m\u001b[0m\u001b[0m\n\u001b[0;32m--> 734\u001b[0;31m                 \u001b[0;32mraise\u001b[0m \u001b[0mKeyboardInterrupt\u001b[0m\u001b[0;34m\u001b[0m\u001b[0;34m\u001b[0m\u001b[0m\n\u001b[0m\u001b[1;32m    735\u001b[0m             \u001b[0;32melse\u001b[0m\u001b[0;34m:\u001b[0m\u001b[0;34m\u001b[0m\u001b[0;34m\u001b[0m\u001b[0m\n\u001b[1;32m    736\u001b[0m                 \u001b[0;32mbreak\u001b[0m\u001b[0;34m\u001b[0m\u001b[0;34m\u001b[0m\u001b[0m\n",
            "\u001b[0;31mKeyboardInterrupt\u001b[0m: "
          ]
        }
      ]
    },
    {
      "cell_type": "markdown",
      "metadata": {
        "id": "1HSl6eWjnioJ"
      },
      "source": [
        "-----\n",
        "#Exercício 43\n",
        "------\n",
        "Desenvolva uma lógica que leia o peso e a altura de uma pessoa, calcule seu Índice de Massa Corporal (IMC) e mostre seu status, de acordo com a tabela abaixo:\n",
        "\n",
        "– IMC abaixo de 18,5: Abaixo do Peso\n",
        "\n",
        "– Entre 18,5 e 25: Peso Ideal\n",
        "\n",
        "– 25 até 30: Sobrepeso\n",
        "\n",
        "– 30 até 40: Obesidade\n",
        "\n",
        "– Acima de 40: Obesidade Mórbida"
      ]
    },
    {
      "cell_type": "code",
      "metadata": {
        "colab": {
          "base_uri": "https://localhost:8080/"
        },
        "id": "HpIm9NmIsVKU",
        "outputId": "2c3965eb-ef60-4d53-f437-1d56967b2946"
      },
      "source": [
        "peso = float (input('Digite seu peso (Kg): '))\n",
        "altura = float (input('Digite sua altura (m): '))\n",
        "\n",
        "IMC = peso / (altura*altura)\n",
        "\n",
        "if IMC < 18.5:\n",
        "  print('Seu IMC é de {:.2f} e você está abaixo do seu peso ideal.' .format(IMC))\n",
        "elif 18.5 <= IMC <= 25:\n",
        "  print('Seu IMC é de {:.2f} e você está no seu peso ideal.' .format(IMC))\n",
        "elif 25 < IMC <= 30:\n",
        "  print('Seu IMC é de {:.2f} e você está em sobrepeso.' .format(IMC))\n",
        "elif 30 < IMC <= 40:\n",
        "  print('Seu IMC é de {:.2f} e você está em obesidade.' .format(IMC))\n",
        "else:\n",
        "  print('Seu IMC é de {:.2f} e você está com obesidade mórbida.' .format(IMC))\n"
      ],
      "execution_count": null,
      "outputs": [
        {
          "name": "stdout",
          "output_type": "stream",
          "text": [
            "Digite seu peso (Kg): 81\n",
            "Digite sua altura (m): 1.8\n",
            "Seu IMC é de 25.00 e você está no seu peso ideal.\n"
          ]
        }
      ]
    },
    {
      "cell_type": "markdown",
      "metadata": {
        "id": "r9Hfa9X3nj3p"
      },
      "source": [
        "\n",
        "-----\n",
        "#Exercício 44\n",
        "------\n",
        "Elabore um programa que calcule o valor a ser pago por um produto, considerando o seu preço normal e condição de pagamento:\n",
        "\n",
        "– à vista dinheiro/cheque: 10% de desconto\n",
        "\n",
        "– à vista no cartão: 5% de desconto\n",
        "\n",
        "– em até 2x no cartão: preço formal \n",
        "\n",
        "– 3x ou mais no cartão: 20% de juros"
      ]
    },
    {
      "cell_type": "code",
      "metadata": {
        "colab": {
          "base_uri": "https://localhost:8080/"
        },
        "id": "3N2cDt1zwW5L",
        "outputId": "ba5cf04e-da58-41d8-8dd1-f6ed9b52b121"
      },
      "source": [
        "print('{:=^40}' .format('\\033[1;33m LOJAS MARCELO \\033[0;0m'))\n",
        "preco = float (input('Digite o valor do produto:\\033[1;32m R$ '))\n",
        "opcao = int (input('''Escolha uma das opções:\n",
        "[1] À Vista Dinheiro/Cheque\n",
        "[2] À Vista no Cartão\n",
        "[3] 2x no Cartão\n",
        "[4] 3x ou mais no Cartão \\033[0;0m\n",
        "Qual das opções? '''))\n",
        "\n",
        "if opcao == 1:\n",
        "  valor = preco * 0.9\n",
        "  print('Sua compra de R${} vai custar R${} com 10% de desconto' .format(preco, valor))\n",
        "elif opcao == 2:\n",
        "  valor = ('Sua compra de R${} vai custar R${} com 5% de desconto' .format(preco, valor))\n",
        "elif opcao == 3:\n",
        "  valor = preco / 2 \n",
        "  print('''Sua compra será parcelada em 2x de R${}\n",
        "  O valor total da sua compra será de R${}''' .format(valor, preco))\n",
        "elif opcao ==4:\n",
        "  parcelas = float (input('Quantas parcelas? '))\n",
        "  valor = (preco * 1.2 ) / parcelas\n",
        "  total = valor * parcelas\n",
        "  print('''Sua compra será parcelada em {}x de R${} COM JUROS\n",
        "Sua compra de R${} vai custar R${} ao final''' .format(parcelas, valor, preco, total))\n",
        "else:\n",
        "  print('Você não digitou nenhuma das opçoes acima') \n",
        "\n"
      ],
      "execution_count": null,
      "outputs": [
        {
          "name": "stdout",
          "output_type": "stream",
          "text": [
            "======\u001b[1;33m LOJAS MARCELO \u001b[0;0m======\n",
            "Digite o valor do produto:\u001b[1;32m R$ 50\n",
            "Escolha uma das opções:\n",
            "[1] À Vista Dinheiro/Cheque\n",
            "[2] À Vista no Cartão\n",
            "[3] 2x no Cartão\n",
            "[4] 3x ou mais no Cartão \u001b[0;0m\n",
            "Qual das opções? 1\n",
            "Sua compra de R$50.0 vai custar R$45.0 com 10% de desconto\n"
          ]
        }
      ]
    },
    {
      "cell_type": "markdown",
      "metadata": {
        "id": "3ffWCNYZPDYr"
      },
      "source": [
        "-----\n",
        "#Exercício 45\n",
        "------\n",
        "Crie um programa que faça o computador jogar Jokenpô com você."
      ]
    },
    {
      "cell_type": "code",
      "metadata": {
        "colab": {
          "base_uri": "https://localhost:8080/"
        },
        "id": "0KB8dMvjPKkj",
        "outputId": "54e5fabe-9b77-4b35-f16c-8a7bafb8304f"
      },
      "source": [
        "from time import sleep\n",
        "import random\n",
        "\n",
        "t = 0.8\n",
        "\n",
        "print('''Suas opções:\n",
        "[0] PEDRA\n",
        "[1] PAPEL\n",
        "[2] TESOURA''')\n",
        "\n",
        "itens = ['Pedra', 'Papel', 'Tesoura']\n",
        "jogador = int (input('Qual a sua jogada? '))\n",
        "computador = random.randrange(1, 3)\n",
        "\n",
        "print('JO')\n",
        "sleep(t)\n",
        "print('KEN')\n",
        "sleep(t)\n",
        "print('PO!!!')\n",
        "\n",
        "print('-=' * 10)\n",
        "print('Computador Jogou {}' .format(itens[computador]))\n",
        "print('Jogador Jogou {}' .format(itens[jogador]))\n",
        "print('-=' * 10)\n",
        "\n",
        "\n"
      ],
      "execution_count": null,
      "outputs": [
        {
          "name": "stdout",
          "output_type": "stream",
          "text": [
            "Suas opções:\n",
            "[0] PEDRA\n",
            "[1] PAPEL\n",
            "[2] TESOURA\n",
            "Qual a sua jogada? 1\n",
            "JO\n",
            "KEN\n",
            "PO!!!\n",
            "-=-=-=-=-=-=-=-=-=-=\n",
            "Computador Jogou Papel\n",
            "Jogador Jogou Papel\n",
            "-=-=-=-=-=-=-=-=-=-=\n"
          ]
        }
      ]
    },
    {
      "cell_type": "markdown",
      "metadata": {
        "id": "YnlWNKacRZ1L"
      },
      "source": [
        "#Exercícios FOR"
      ]
    },
    {
      "cell_type": "markdown",
      "metadata": {
        "id": "LApScw_uhq9h"
      },
      "source": [
        "-----\n",
        "#Exercício 46\n",
        "------\n",
        "Faça um programa que mostre na tela uma contagem regressiva para o estouro de fogos de artifício, indo de 10 até 0, com uma pausa de 1 segundo entre eles."
      ]
    },
    {
      "cell_type": "code",
      "metadata": {
        "id": "tKdrMKinj_Rx"
      },
      "source": [
        "from time import sleep"
      ],
      "execution_count": null,
      "outputs": []
    },
    {
      "cell_type": "code",
      "metadata": {
        "colab": {
          "base_uri": "https://localhost:8080/"
        },
        "id": "dKs-ktIYj_NT",
        "outputId": "f70b6f18-e374-4ee1-f54c-b587ff3bcffb"
      },
      "source": [
        "t = 1.0\n",
        "\n",
        "for c in range(10, -1, -1):\n",
        "  print(c)\n",
        "  sleep(t)\n",
        "print('ESTOURO DE FOGOS')"
      ],
      "execution_count": null,
      "outputs": [
        {
          "name": "stdout",
          "output_type": "stream",
          "text": [
            "10\n",
            "9\n",
            "8\n",
            "7\n",
            "6\n",
            "5\n",
            "4\n",
            "3\n",
            "2\n",
            "1\n",
            "0\n",
            "ESTOURO DE FOGOS\n"
          ]
        }
      ]
    },
    {
      "cell_type": "markdown",
      "metadata": {
        "id": "GrYhsz8slhgo"
      },
      "source": [
        "-----\n",
        "#Exercício 47\n",
        "------\n",
        "Crie um programa que mostre na tela todos os números pares que estão no intervalo entre 1 e 50."
      ]
    },
    {
      "cell_type": "code",
      "metadata": {
        "id": "hUcQzJCPlmCl",
        "colab": {
          "base_uri": "https://localhost:8080/"
        },
        "outputId": "00e22820-252d-4450-e201-d49a944ca1a2"
      },
      "source": [
        "for i in range(1, 51):\n",
        "  print(\".\")\n",
        "  resto = i % 2\n",
        "  if (resto == 0):\n",
        "    print(i, end= ' ')\n",
        "\n",
        "\n",
        "print(\"=-=--=\" * 15)\n",
        "\n",
        "for i in range (1, 51):\n",
        "  if (i % 2 == 0):\n",
        "    print(i)\n"
      ],
      "execution_count": null,
      "outputs": [
        {
          "output_type": "stream",
          "name": "stdout",
          "text": [
            ".\n",
            ".\n",
            "2 .\n",
            ".\n",
            "4 .\n",
            ".\n",
            "6 .\n",
            ".\n",
            "8 .\n",
            ".\n",
            "10 .\n",
            ".\n",
            "12 .\n",
            ".\n",
            "14 .\n",
            ".\n",
            "16 .\n",
            ".\n",
            "18 .\n",
            ".\n",
            "20 .\n",
            ".\n",
            "22 .\n",
            ".\n",
            "24 .\n",
            ".\n",
            "26 .\n",
            ".\n",
            "28 .\n",
            ".\n",
            "30 .\n",
            ".\n",
            "32 .\n",
            ".\n",
            "34 .\n",
            ".\n",
            "36 .\n",
            ".\n",
            "38 .\n",
            ".\n",
            "40 .\n",
            ".\n",
            "42 .\n",
            ".\n",
            "44 .\n",
            ".\n",
            "46 .\n",
            ".\n",
            "48 .\n",
            ".\n",
            "50 =-=--==-=--==-=--==-=--==-=--==-=--==-=--==-=--==-=--==-=--==-=--==-=--==-=--==-=--==-=--=\n",
            "2\n",
            "4\n",
            "6\n",
            "8\n",
            "10\n",
            "12\n",
            "14\n",
            "16\n",
            "18\n",
            "20\n",
            "22\n",
            "24\n",
            "26\n",
            "28\n",
            "30\n",
            "32\n",
            "34\n",
            "36\n",
            "38\n",
            "40\n",
            "42\n",
            "44\n",
            "46\n",
            "48\n",
            "50\n"
          ]
        }
      ]
    },
    {
      "cell_type": "markdown",
      "metadata": {
        "id": "oQEwwBKjnfTZ"
      },
      "source": [
        "-----\n",
        "#Exercício 48\n",
        "------\n",
        "Faça um programa que calcule a soma entre todos os números ímpares que são múltiplos de três e que se encontram no intervalo de 1 até 500."
      ]
    },
    {
      "cell_type": "code",
      "metadata": {
        "colab": {
          "base_uri": "https://localhost:8080/"
        },
        "id": "tIro9fKtne6m",
        "outputId": "b8a39e6f-1937-4b7b-8057-20273243dc9a"
      },
      "source": [
        "soma = 0\n",
        "count = 0\n",
        "for i in range(1, 501):\n",
        "  if i % 3 == 0 and i % 2 != 0:\n",
        "    count = count + 1\n",
        "    soma = soma + i\n",
        "print('O valor da soma foi de {} e foram contados {} números' .format(soma, count))\n",
        "  \n",
        "  "
      ],
      "execution_count": null,
      "outputs": [
        {
          "name": "stdout",
          "output_type": "stream",
          "text": [
            "O valor da soma foi de 20667 e foram contados 83 números\n"
          ]
        }
      ]
    },
    {
      "cell_type": "markdown",
      "metadata": {
        "id": "p6qJSkJ4rCb6"
      },
      "source": [
        "-----\n",
        "#Exercício 49\n",
        "------\n",
        "Refaça o DESAFIO 9, mostrando a tabuada de um número que o usuário escolher, só que agora utilizando um laço for."
      ]
    },
    {
      "cell_type": "code",
      "metadata": {
        "colab": {
          "base_uri": "https://localhost:8080/"
        },
        "id": "TH4ulNC-rOTp",
        "outputId": "d6ce601b-b138-4bcf-a580-35912f7bd836"
      },
      "source": [
        "num = int (input('Digite um número para ver a sua tabuada: '))\n",
        "for i in range (1, 11):\n",
        "  print('{} x {} = {}' .format(num, i, num*i))"
      ],
      "execution_count": null,
      "outputs": [
        {
          "name": "stdout",
          "output_type": "stream",
          "text": [
            "Digite um número para ver a sua tabuada: 2\n",
            "2 x 1 = 2\n",
            "2 x 2 = 4\n",
            "2 x 3 = 6\n",
            "2 x 4 = 8\n",
            "2 x 5 = 10\n",
            "2 x 6 = 12\n",
            "2 x 7 = 14\n",
            "2 x 8 = 16\n",
            "2 x 9 = 18\n",
            "2 x 10 = 20\n"
          ]
        }
      ]
    },
    {
      "cell_type": "markdown",
      "metadata": {
        "id": "ZKLmZnMMKuN_"
      },
      "source": [
        "-----\n",
        "#Exercício 50\n",
        "------\n",
        "Desenvolva um programa que leia seis números inteiros e mostre a soma apenas daqueles que forem pares. Se o valor digitado for ímpar, desconsidere-o."
      ]
    },
    {
      "cell_type": "code",
      "metadata": {
        "colab": {
          "base_uri": "https://localhost:8080/"
        },
        "id": "LwEg3MoqKtuF",
        "outputId": "761bfe4f-d3bd-4daa-ab1d-0646d8492523"
      },
      "source": [
        "soma = 0\n",
        "for i in range (1, 7):\n",
        "  num1 = int (input('Digite o {}º número: ' .format(i)))\n",
        "  if num1 % 2 == 0:\n",
        "    soma = soma + num1\n",
        "print('O resultado da soma foi de {} ' .format(soma))"
      ],
      "execution_count": null,
      "outputs": [
        {
          "name": "stdout",
          "output_type": "stream",
          "text": [
            "Digite o 1º número: 2\n",
            "Digite o 2º número: 2\n",
            "Digite o 3º número: 2\n",
            "Digite o 4º número: 4\n",
            "Digite o 5º número: 2\n",
            "Digite o 6º número: 1\n",
            "O resultado da soma foi de 12 \n"
          ]
        }
      ]
    },
    {
      "cell_type": "markdown",
      "metadata": {
        "id": "ZxR53CL6NSv0"
      },
      "source": [
        "-----\n",
        "#Exercício 51\n",
        "------\n",
        "Desenvolva um programa que leia o primeiro termo e a razão de uma PA. No final, mostre os 10 primeiros termos dessa progressão."
      ]
    },
    {
      "cell_type": "code",
      "metadata": {
        "colab": {
          "base_uri": "https://localhost:8080/"
        },
        "id": "m1HypIxLNW-W",
        "outputId": "3b2a39ed-6843-40ec-d0c1-7ef0fa45a58d"
      },
      "source": [
        "print('====' * 10)\n",
        "print('10 TERMOS DE UMA PA')\n",
        "print('====' * 10)\n",
        "\n",
        "prim = int (input('Primeiro Termo: '))\n",
        "razao = int (input('Razão: '))\n",
        "decimo = prim + (10 - 1) * razao\n",
        "\n",
        "for i in range (prim, decimo + razao, razao):\n",
        "  print('{}' .format(i), end = ' -> ')\n",
        "print('Acabou')"
      ],
      "execution_count": null,
      "outputs": [
        {
          "name": "stdout",
          "output_type": "stream",
          "text": [
            "========================================\n",
            "10 TERMOS DE UMA PA\n",
            "========================================\n",
            "Primeiro Termo: 0\n",
            "Razão: 2\n",
            "0 -> 2 -> 4 -> 6 -> 8 -> 10 -> 12 -> 14 -> 16 -> 18 -> Acabou\n"
          ]
        }
      ]
    },
    {
      "cell_type": "markdown",
      "metadata": {
        "id": "CaBSKvoZRqdO"
      },
      "source": [
        "-----\n",
        "#Exercício 52\n",
        "------\n",
        "Faça um programa que leia um número inteiro e diga se ele é ou não um número primo."
      ]
    },
    {
      "cell_type": "code",
      "metadata": {
        "colab": {
          "base_uri": "https://localhost:8080/"
        },
        "id": "jPl4BZFnR17D",
        "outputId": "6c895101-2bfa-4148-8412-272367d1d409"
      },
      "source": [
        "num = int (input('Digite um número: '))\n",
        "tot = 0 #contador \n",
        "for i in range (1, num + 1):\n",
        "    if num % i == 0:\n",
        "        print('\\033[33m', end=' ')\n",
        "        tot += 1\n",
        "    else:\n",
        "        print('\\033[31m', end=' ')\n",
        "    print('{}' .format(i), end=' ')\n",
        "\n",
        "print('\\n\\033[mO numero {} foi divisivel {} vezes.' .format(num, tot))\n",
        "if tot == 2:\n",
        "  print('O número {} é PRIMO' .format(num))\n",
        "else:\n",
        "  print('O numero {} não é primo' .format(num)) "
      ],
      "execution_count": null,
      "outputs": [
        {
          "name": "stdout",
          "output_type": "stream",
          "text": [
            "Digite um número: 1\n",
            "\u001b[33m 1 \n",
            "\u001b[mO numero 1 foi divisivel 1 vezes.\n",
            "O numero 1 não é primo\n"
          ]
        }
      ]
    },
    {
      "cell_type": "markdown",
      "metadata": {
        "id": "YYBEtH-CYIZT"
      },
      "source": [
        "-----\n",
        "#Exercício 53\n",
        "------\n",
        "Crie um programa que leia uma frase qualquer e diga se ela é um palíndromo, desconsiderando os espaços. Exemplos de palíndromos:\n",
        "\n",
        "APOS A SOPA, A SACADA DA CASA, A TORRE DA DERROTA, O LOBO AMA O BOLO, ANOTARAM A DATA DA MARATONA."
      ]
    },
    {
      "cell_type": "code",
      "metadata": {
        "colab": {
          "base_uri": "https://localhost:8080/"
        },
        "id": "Qjnm8Yj7Jg8l",
        "outputId": "70f8b98f-7558-49a7-9624-63b12a7bca9c"
      },
      "source": [
        "frase = str (input('Digite uma frase: ')).strip().upper() #strip() remove spaces / upper() letra maiúscula\n",
        "palavras = frase.split() #separa a frase em palavras\n",
        "#print(palavras)\n",
        "junto = ''.join(palavras) #pegando as palavras e juntando\n",
        "#print(junto)\n",
        "inverso = ''\n",
        "for letra in range(len(junto) - 1, -1, -1):\n",
        "  inverso += junto[letra]\n",
        "print('O inverso de {} é {}' .format(junto, inverso))\n",
        "if inverso == junto:\n",
        "  print('Temos um palíndromo')\n",
        "else:\n",
        "  print('A frase digitada não é um palíndromo')\n"
      ],
      "execution_count": null,
      "outputs": [
        {
          "name": "stdout",
          "output_type": "stream",
          "text": [
            "Digite uma frase: Marcelo \n",
            "O inverso de MARCELO é OLECRAM\n",
            "A frase digitada não é um palíndromo\n"
          ]
        }
      ]
    },
    {
      "cell_type": "markdown",
      "metadata": {
        "id": "QT2iwjokNoj0"
      },
      "source": [
        "-----\n",
        "#Exercício 54\n",
        "------\n",
        "Crie um programa que leia o ano de nascimento de sete pessoas. No final, mostre quantas pessoas ainda não atingiram a maioridade e quantas já são maiores."
      ]
    },
    {
      "cell_type": "code",
      "metadata": {
        "colab": {
          "base_uri": "https://localhost:8080/"
        },
        "id": "oDcWHr6uRNjl",
        "outputId": "8305c266-e6fc-4841-e076-0adc8d997a5d"
      },
      "source": [
        "from datetime import date\n",
        "atual = date.today().year\n",
        "\n",
        "totmaior = 0\n",
        "totmenor = 0\n",
        "\n",
        "for i in range(1, 8):\n",
        "  nasc = int (input('Em que ano a {}ª nasceu? '.format(i)))\n",
        "  idade = atual - nasc\n",
        "  if idade >= 21:\n",
        "    totmaior += 1\n",
        "  else:\n",
        "    totmenor += 1\n",
        "print('Ao todo temos {} pessoas maiores de idade' .format(totmaior))\n",
        "print('E também temos {} pessoas menores de idade' .format(totmenor))"
      ],
      "execution_count": null,
      "outputs": [
        {
          "name": "stdout",
          "output_type": "stream",
          "text": [
            "Em que ano a 1ª nasceu? 1999\n",
            "Em que ano a 2ª nasceu? 1998\n",
            "Em que ano a 3ª nasceu? 2002\n",
            "Em que ano a 4ª nasceu? 1963\n",
            "Em que ano a 5ª nasceu? 1950\n",
            "Em que ano a 6ª nasceu? 1995\n",
            "Em que ano a 7ª nasceu? 2008\n",
            "Ao todo temos 5 pessoas maiores de idade\n",
            "E também temos 2 pessoas menores de idade\n"
          ]
        }
      ]
    },
    {
      "cell_type": "markdown",
      "metadata": {
        "id": "rUNwOft3Tl2r"
      },
      "source": [
        "-----\n",
        "#Exercício 55\n",
        "------\n",
        "Faça um programa que leia o peso de cinco pessoas. No final, mostre qual foi o maior e o menor peso lidos."
      ]
    },
    {
      "cell_type": "code",
      "metadata": {
        "colab": {
          "base_uri": "https://localhost:8080/"
        },
        "id": "yXCf1Xi-ToSB",
        "outputId": "988cc04c-ecee-4a74-b009-da5686e1bcc1"
      },
      "source": [
        "maior = 0\n",
        "menor = 0\n",
        "\n",
        "for i in range(1, 6):\n",
        "  peso = float (input('Peso da {}ª pessoa: ' .format(i)))\n",
        "  if i == 1:\n",
        "    maior = peso\n",
        "    menor = peso\n",
        "  else:\n",
        "    if peso > maior:\n",
        "      maior = peso\n",
        "    if peso < menor:\n",
        "      menor = peso\n",
        "print('O maior peso lido foi de {}kg' .format(maior))\n",
        "print('O menor peso lido foi de {}kg' .format(menor))"
      ],
      "execution_count": null,
      "outputs": [
        {
          "name": "stdout",
          "output_type": "stream",
          "text": [
            "Peso da 1ª pessoa: 5\n",
            "Peso da 2ª pessoa: 5\n",
            "Peso da 3ª pessoa: 5\n",
            "Peso da 4ª pessoa: 5\n",
            "Peso da 5ª pessoa: 5\n",
            "O maior peso lido foi de 5.0kg\n",
            "O menor peso lido foi de 5.0kg\n"
          ]
        }
      ]
    },
    {
      "cell_type": "markdown",
      "metadata": {
        "id": "N9nM-s6ceiKN"
      },
      "source": [
        "-----\n",
        "#Exercício 56\n",
        "------\n",
        "Desenvolva um programa que leia o nome, idade e sexo de 4 pessoas. No final do programa, mostre: a média de idade do grupo, qual é o nome do homem mais velho e quantas mulheres têm menos de 20 anos."
      ]
    },
    {
      "cell_type": "code",
      "metadata": {
        "id": "buw276HJefy-"
      },
      "source": [
        "somaidade = 0\n",
        "maioridadehomem = 0\n",
        "nomevelho = ''\n",
        "totmulher20 = 0\n",
        "for i in range(1, 5):\n",
        "  print('-----{}ª PESSOA-----' .format(i))\n",
        "  nome = str (input('Nome: ')).strip()\n",
        "  idade = int (input('Idade: '))\n",
        "  sexo = str (input('[M/F]: ')).strip()\n",
        "  somaidade +=  idade #somaidade = somaidade + idade\n",
        "  if i == 1 and sexo in 'Mm':\n",
        "      maioridadehomem = idade\n",
        "      nomevelho = nome\n",
        "  if sexo in 'Mm' and idade > maioridadehomem:\n",
        "    maioridadehomem = idade\n",
        "    nomevelho = nome\n",
        "  if sexo in 'Ff' and idade < 20:\n",
        "      totmulher20 += 1\n",
        "\n",
        "media = somaidade / 4\n",
        "print('A média de idade do grupo é de {} anos' .format(media))\n",
        "print( 'O homem mais velho tem {} anos e se chama {}' .format(idade, nome))\n",
        "print('Ao todo são {} mulheres com menos de 20 anos' .format(totmulher20))"
      ],
      "execution_count": null,
      "outputs": []
    },
    {
      "cell_type": "markdown",
      "metadata": {
        "id": "gzCdc_NENish"
      },
      "source": [
        "#Exercícios WHILE"
      ]
    },
    {
      "cell_type": "markdown",
      "metadata": {
        "id": "Dg2fT6tIquG8"
      },
      "source": [
        "-----\n",
        "#Exercício 57\n",
        "------\n",
        "Faça um programa que leia o sexo de uma pessoa, mas só aceite os valores ‘M’ ou ‘F’. Caso esteja errado, peça a digitação novamente até ter um valor correto."
      ]
    },
    {
      "cell_type": "code",
      "metadata": {
        "colab": {
          "base_uri": "https://localhost:8080/"
        },
        "id": "0sj9wcR7WAhU",
        "outputId": "e663dce3-a746-4c75-d12b-d6d1df8c2171"
      },
      "source": [
        "sexo = str (input('Informe seu sexo: [M/F] ')).strip().upper()\n",
        "while sexo not in 'MmFf':\n",
        "  sexo = str (input('Dados inválidos. Por favor, informe seu sexo: [M/F]')).strip().upper()\n",
        "print('Sexo {} registrado com sucesso: ' .format(sexo))\n"
      ],
      "execution_count": null,
      "outputs": [
        {
          "name": "stdout",
          "output_type": "stream",
          "text": [
            "Informe seu sexo: [M/F] k\n",
            "Dados inválidos. Por favor, informe seu sexo: [M/F]mn\n",
            "Dados inválidos. Por favor, informe seu sexo: [M/F]m\n",
            "Sexo M registrado com sucesso: \n"
          ]
        }
      ]
    },
    {
      "cell_type": "markdown",
      "metadata": {
        "id": "GwV2nH5QYdjW"
      },
      "source": [
        "-----\n",
        "#Exercício 58\n",
        "------\n",
        "Melhore o jogo do DESAFIO 28 onde o computador vai “pensar” em um número entre 0 e 10. Só que agora o jogador vai tentar adivinhar até acertar, mostrando no final quantos palpites foram necessários para vencer."
      ]
    },
    {
      "cell_type": "code",
      "metadata": {
        "colab": {
          "base_uri": "https://localhost:8080/"
        },
        "id": "Wsi_-3gHYjRQ",
        "outputId": "d4e6460c-ce07-409b-b1a0-4eed03402ba1"
      },
      "source": [
        "import random\n",
        "from time import sleep\n",
        "\n",
        "print('-'* 15)\n",
        "print('Vou pensar em um número de 0 à 10')\n",
        "sleep(1)\n",
        "print('Processando...')\n",
        "sleep(1)\n",
        "print('Já pensei. Será que você consegue adivinhar qual foi? ')\n",
        "computador = random.randint(0, 10)\n",
        "print(computador)\n",
        "tentativas = 0\n",
        "\n",
        "\n",
        "while palpite != computador:\n",
        "  palpite = int (input('Qual é o seu palpite? '))\n",
        "  tentativas += 1\n",
        "  if palpite < computador:\n",
        "    print('Mais... tente mais uma vez: ')\n",
        "    #palpite = int (input('Mais... Tente mais uma vez: '))\n",
        "  else:\n",
        "    if palpite > computador:\n",
        "      print('Menos... Tente mais uma vez: ')\n",
        "      #palpite = int (input('Menos... Tente mais uma vez: '))\n",
        "print('Acertou com {} tentativas. Parabéns!' .format(tentativas))"
      ],
      "execution_count": null,
      "outputs": [
        {
          "output_type": "stream",
          "name": "stdout",
          "text": [
            "---------------\n",
            "Vou pensar em um número de 0 à 10\n",
            "Processando...\n",
            "Já pensei. Será que você consegue adivinhar qual foi? \n",
            "4\n",
            "Qual é o seu palpite? 4\n",
            "Acertou com 1 tentativas. Parabéns!\n"
          ]
        }
      ]
    },
    {
      "cell_type": "markdown",
      "metadata": {
        "id": "NmU39pvTo_gj"
      },
      "source": [
        "-----\n",
        "#Exercício 59\n",
        "------\n",
        "Crie um programa que leia dois valores e mostre um menu na tela:\n",
        "\n",
        "[ 1 ] somar\n",
        "\n",
        "[ 2 ] multiplicar\n",
        "\n",
        "[ 3 ] maior\n",
        "\n",
        "[ 4 ] novos números\n",
        "\n",
        "[ 5 ] sair do programa\n",
        "\n",
        "Seu programa deverá realizar a operação solicitada em cada caso."
      ]
    },
    {
      "cell_type": "code",
      "metadata": {
        "colab": {
          "base_uri": "https://localhost:8080/"
        },
        "id": "q5EpGwQIpK6i",
        "outputId": "676be813-6fa6-4f48-ffc2-67a76f1ccc67"
      },
      "source": [
        "from time import sleep\n",
        "\n",
        "n1 = int (input('Primeiro Valor: '))\n",
        "n2 = int (input('Segundo Valor: '))\n",
        "opcao = 0\n",
        "while opcao != 5:\n",
        "  print( '''  [1] SOMAR \n",
        "  [2] MULTIPLICAR\n",
        "  [3] MAIOR\n",
        "  [4] NOVOS NÚMEROS\n",
        "  [5] SAIR DO PROGRAMA''')\n",
        "  opcao = int (input('Qual a sua opção? '))\n",
        "  \n",
        "  if opcao == 1:\n",
        "    total = n1 + n2\n",
        "    print('A soma entre {} + {} é {}' .format(n1, n2, total ))\n",
        "  \n",
        "  elif opcao == 2:\n",
        "      multi = n1 * n2\n",
        "      print('A multiplicação entre {} e {} é {}' .format(n1, n2, multi))\n",
        "  elif opcao == 3 and n1 > n2:\n",
        "      print('Entre {} e {} o maior valor é {}' .format(n1, n2, n1))\n",
        "  elif opcao == 3 and n2 > n1:\n",
        "      print('Entre {} e {} o maior valor é {}' .format(n1, n2, n2))\n",
        "  elif opcao == 4:\n",
        "      print('Informe os números novamente: ')\n",
        "      n1 = int (input('Primeiro Valor: '))\n",
        "      n2 = int (input('Segundo Valor: '))\n",
        "  else:\n",
        "    print('Opção inválida, tente nomente:')\n",
        "  print('=-=-=' * 10)\n",
        "  \n",
        "print('Finalizando ...')\n",
        "sleep(1.5)\n",
        "print('Programa Finalizado! Até mais!')\n",
        "  \n"
      ],
      "execution_count": null,
      "outputs": [
        {
          "output_type": "stream",
          "name": "stdout",
          "text": [
            "Primeiro Valor: 5\n",
            "Segundo Valor: 6\n",
            "  [1] SOMAR \n",
            "  [2] MULTIPLICAR\n",
            "  [3] MAIOR\n",
            "  [4] NOVOS NÚMEROS\n",
            "  [5] SAIR DO PROGRAMA\n",
            "Qual a sua opção? 5\n",
            "Opção inválida, tente nomente:\n",
            "=-=-==-=-==-=-==-=-==-=-==-=-==-=-==-=-==-=-==-=-=\n",
            "Finalizando ...\n",
            "Programa Finalizado! Até mais!\n"
          ]
        }
      ]
    },
    {
      "cell_type": "markdown",
      "metadata": {
        "id": "NgVepB9kNGRI"
      },
      "source": [
        "-----\n",
        "#Exercício 60\n",
        "------\n",
        "Faça um programa que leia um número qualquer e mostre o seu fatorial. Exemplo:"
      ]
    },
    {
      "cell_type": "code",
      "metadata": {
        "colab": {
          "base_uri": "https://localhost:8080/"
        },
        "id": "7JbLFnOiNMqc",
        "outputId": "596dcb80-0e77-4864-8519-d9604fae46c8"
      },
      "source": [
        "n = int (input('Digite o numero que gostaria de calcular seu fatorial: '))\n",
        "f = 1\n",
        "c = n\n",
        "\n",
        "print('Calculando o fatorial de {}!' .format(n))\n",
        "while n > 0:\n",
        "  f = f * n\n",
        "  n = n - 1\n",
        "print('O fatorial de {} é {}' .format(c ,f)) "
      ],
      "execution_count": 10,
      "outputs": [
        {
          "output_type": "stream",
          "name": "stdout",
          "text": [
            "Digite o numero que gostaria de calcular seu fatorial: 5\n",
            "Calculando o fatorial de 5!\n",
            "O fatorial de 5 é 120\n"
          ]
        }
      ]
    },
    {
      "cell_type": "markdown",
      "metadata": {
        "id": "-ORm3nycvvi4"
      },
      "source": [
        "-----\n",
        "#Exercício 61\n",
        "------\n",
        "Refaça o DESAFIO 51, lendo o primeiro termo e a razão de uma PA, mostrando os 10 primeiros termos da progressão usando a estrutura while."
      ]
    },
    {
      "cell_type": "code",
      "metadata": {
        "colab": {
          "base_uri": "https://localhost:8080/"
        },
        "id": "R8ofb1FDvzLZ",
        "outputId": "0828e964-827f-4e44-cd17-01f46b4a9a38"
      },
      "source": [
        "print('Gerador de uma PA')\n",
        "print('-=-='*6)\n",
        "\n",
        "n1 = int (input('Primeiro termo: '))\n",
        "r = int (input('Razão da PA: '))\n",
        "cont = 0\n",
        "termo = n1\n",
        "\n",
        "while cont != 10:\n",
        "  print('{}' .format(termo), end = ' -> ')\n",
        "  cont += 1\n",
        "  termo = termo + r\n",
        "print('FIM!!')\n"
      ],
      "execution_count": null,
      "outputs": [
        {
          "output_type": "stream",
          "name": "stdout",
          "text": [
            "Gerador de uma PA\n",
            "-=-=-=-=-=-=-=-=-=-=-=-=\n",
            "Primeiro termo: 0\n",
            "Razão da PA: 5\n",
            "0 -> 5 -> 10 -> 15 -> 20 -> 25 -> 30 -> 35 -> 40 -> 45 -> FIM!!\n"
          ]
        }
      ]
    },
    {
      "cell_type": "markdown",
      "metadata": {
        "id": "1vTg-72G3dEm"
      },
      "source": [
        "-----\n",
        "#Exercício 62\n",
        "------\n",
        "Melhore o DESAFIO 61, perguntando para o usuário se ele quer mostrar mais alguns termos. O programa encerrará quando ele disser que quer mostrar 0 termos."
      ]
    },
    {
      "cell_type": "code",
      "metadata": {
        "id": "RkfoeMHM3cs-"
      },
      "source": [
        "#Tentativa de fazer o programa sem a ajuda do professor\n",
        "\n",
        "print('Gerador de uma PA')\n",
        "print('-=-='*6)\n",
        "\n",
        "primeiro = int (input('Primeiro Termo: '))\n",
        "razao = int (input('Razão da PA: '))\n",
        "cont = 0\n",
        "termo = primeiro\n",
        "\n",
        "\n",
        "while cont != 10:\n",
        "  print('{}' .format(termo), end = ' -> ')\n",
        "  cont += 1\n",
        "  termo += razao\n",
        "print('PAUSA')\n",
        "\n",
        "n_termos = int (input('Quantos termos você quer mostrar a mais? '))\n",
        "cont2 = 0\n",
        "ultimo = termo\n",
        "\n",
        "while n_termos != 0:\n",
        "  while cont2 != n_termos: #and total != n_termos:\n",
        "    print('{} -> ' .format(ultimo), end = '') \n",
        "    ultimo += razao\n",
        "    cont2 += 1\n",
        "    #n_termos = int (input('Quantos termos você quer mostrar a mais? '))\n",
        "\n",
        "print('PAUSA')\n",
        "\n",
        "\n",
        "\n",
        "\n",
        "  "
      ],
      "execution_count": null,
      "outputs": []
    },
    {
      "cell_type": "code",
      "metadata": {
        "colab": {
          "base_uri": "https://localhost:8080/"
        },
        "id": "UfAulmiQQM0r",
        "outputId": "691896fc-97f2-4386-ba34-77b080c61ed9"
      },
      "source": [
        "# AJUDA DO PROFESSOR\n",
        "print('Gerador de uma PA')\n",
        "print('-=-='*6)\n",
        "\n",
        "primeiro = int (input('Primeiro termo: '))\n",
        "razao = int (input('Razão da PA: '))\n",
        "cont = 1\n",
        "termo = primeiro\n",
        "total = 0\n",
        "mais = 10\n",
        "\n",
        "while mais != 0:\n",
        "  total = total + mais\n",
        "  while cont <= total:\n",
        "    print('{}' .format(termo), end = ' -> ')\n",
        "    termo += razao\n",
        "    cont += 1\n",
        "  print('PAUSA!!')\n",
        "  mais = int (input('Quantos termos você quer mostras a mais? '))\n",
        "print('FIM!!')\n",
        "print('A progressão foi finalizada com {} termos mostrados' .format(total))\n"
      ],
      "execution_count": null,
      "outputs": [
        {
          "output_type": "stream",
          "name": "stdout",
          "text": [
            "Gerador de uma PA\n",
            "-=-=-=-=-=-=-=-=-=-=-=-=\n",
            "Primeiro termo: 5\n",
            "Razão da PA: 2\n",
            "5 -> 7 -> 9 -> 11 -> 13 -> 15 -> 17 -> 19 -> 21 -> 23 -> PAUSA!!\n",
            "Quantos termos você quer mostras a mais? 10\n",
            "25 -> 27 -> 29 -> 31 -> 33 -> 35 -> 37 -> 39 -> 41 -> 43 -> PAUSA!!\n",
            "Quantos termos você quer mostras a mais? 0\n",
            "FIM!!\n",
            "A progressão foi finalizada com 20 termos mostrados\n"
          ]
        }
      ]
    },
    {
      "cell_type": "markdown",
      "metadata": {
        "id": "QZsDYE1VVYZZ"
      },
      "source": [
        "-----\n",
        "#Exercício 63\n",
        "------\n",
        "Escreva um programa que leia um número N inteiro qualquer e mostre na tela os N primeiros elementos de uma Sequência de Fibonacci. Exemplo:\n",
        "\n",
        "0 – 1 – 1 – 2 – 3 – 5 – 8"
      ]
    },
    {
      "cell_type": "code",
      "metadata": {
        "id": "K8tkJwJOZK1s",
        "colab": {
          "base_uri": "https://localhost:8080/"
        },
        "outputId": "54149a79-7862-4261-c3d6-d6202820a18e"
      },
      "source": [
        "Nant = 1\n",
        "Fibonacci = 0\n",
        "\n",
        "n = int(input('Digite um número:(Este vai ser o nº de elementos da sequência) '))\n",
        "\n",
        "while n != 0:\n",
        "    print('{}'.format(Fibonacci), end=' → ')\n",
        "    Fibonacci = Fibonacci + Nant\n",
        "    Nant = Fibonacci - Nant\n",
        "    n -= 1\n",
        "print('FIM')"
      ],
      "execution_count": null,
      "outputs": [
        {
          "output_type": "stream",
          "name": "stdout",
          "text": [
            "Digite um número:(Este vai ser o nº de elementos da sequência) 10\n",
            "0 → 1 → 1 → 2 → 3 → 5 → 8 → 13 → 21 → 34 → FIM\n"
          ]
        }
      ]
    },
    {
      "cell_type": "code",
      "metadata": {
        "colab": {
          "base_uri": "https://localhost:8080/"
        },
        "id": "jL405xK7h_d8",
        "outputId": "0dc3aa14-803e-4f65-8cb3-af1b01131603"
      },
      "source": [
        "print('---' * 15)\n",
        "print('SEQUÊNCIA DE FIBONACCI')\n",
        "print('---' * 15)\n",
        "\n",
        "n = int (input('Digite um npumero de termos para a sequência de Fibonacci: '))\n",
        "termo = 0\n",
        "ant = 1\n",
        "cont = 0\n",
        "print('{} -> {}' .format(termo, ant), end = '')\n",
        "while cont <= n:\n",
        "  t3 = termo + ant\n",
        "  print(' -> {}' .format(t3), end='')\n",
        "  termo = ant\n",
        "  ant = t3\n",
        "  cont += 1\n",
        "print('FIM')"
      ],
      "execution_count": null,
      "outputs": [
        {
          "output_type": "stream",
          "name": "stdout",
          "text": [
            "---------------------------------------------\n",
            "SEQUÊNCIA DE FIBONACCI\n",
            "---------------------------------------------\n",
            "Digite um npumero de termos para a sequência de Fibonacci: 10\n",
            "0 -> 1 -> 1 _> -> 2 _> -> 3 _> -> 5 _> -> 8 _> -> 13 _> -> 21 _> -> 34 _> -> 55 _> -> 89 _> -> 144 _>FIM\n"
          ]
        }
      ]
    },
    {
      "cell_type": "markdown",
      "metadata": {
        "id": "hZvhFIbnkSQH"
      },
      "source": [
        "-----\n",
        "#Exercício 64\n",
        "------\n",
        "Crie um programa que leia vários números inteiros pelo teclado. O programa só vai parar quando o usuário digitar o valor 999, que é a condição de parada. No final, mostre quantos números foram digitados e qual foi a soma entre eles (desconsiderando o flag)."
      ]
    },
    {
      "cell_type": "code",
      "metadata": {
        "colab": {
          "base_uri": "https://localhost:8080/"
        },
        "id": "u3X6duO4kYXA",
        "outputId": "f381112c-a412-4002-f6da-b868896e482f"
      },
      "source": [
        "n = 0\n",
        "cont = 0\n",
        "soma = 0\n",
        "n = int (input('Digite um número [999 para parar]: '))\n",
        "while n != 999:\n",
        "  cont += 1\n",
        "  soma += n \n",
        "  n = int (input('Digite um número [999 para parar]: '))\n",
        "print('Você digitou {} números e a soma entre eles foi de {}' .format(cont, soma))\n",
        "  \n",
        "  \n",
        "\n"
      ],
      "execution_count": 1,
      "outputs": [
        {
          "output_type": "stream",
          "name": "stdout",
          "text": [
            "Digite um número [999 para parar]: 5\n",
            "Digite um número [999 para parar]: 2\n",
            "Digite um número [999 para parar]: 999\n",
            "Você digitou 2 números e a soma entre eles foi de 7\n"
          ]
        }
      ]
    },
    {
      "cell_type": "markdown",
      "metadata": {
        "id": "JyvdwF28qb5v"
      },
      "source": [
        "-----\n",
        "#Exercício 65\n",
        "------\n",
        "Crie um programa que leia vários números inteiros pelo teclado. No final da execução, mostre a média entre todos os valores e qual foi o maior e o menor valores lidos. O programa deve perguntar ao usuário se ele quer ou não continuar a digitar valores."
      ]
    },
    {
      "cell_type": "code",
      "metadata": {
        "colab": {
          "base_uri": "https://localhost:8080/"
        },
        "id": "DXSDoH24qlzV",
        "outputId": "b6003565-2055-49b8-fdac-a180f01902c2"
      },
      "source": [
        "#n = input('Digite um número: ')\n",
        "resp = 'S'\n",
        "cont = soma = 0\n",
        "\n",
        "while resp == 'S': # podemos usar while resp in 'Ss'\n",
        "  n = int (input('Digite um número: '))\n",
        "  resp = str (input('Você deseja continuar [S/N]? ')).upper().strip()[0] #maiúsuca, removendo os espaços e considerando o a primeira letra\n",
        "  cont += 1\n",
        "  soma += n\n",
        "  if cont == 1:\n",
        "    maior = menor = n\n",
        "  elif n > maior:\n",
        "    maior = n\n",
        "  elif n < menor:\n",
        "    menor = n\n",
        "\n",
        "media = soma / cont\n",
        "\n",
        "print('Você digitou {} números e a média entr eles foi de {}' .format(cont, media))\n",
        "print('O maior valor lido foi de {} e o menor valor lido foi de {}' .format(maior, menor))"
      ],
      "execution_count": null,
      "outputs": [
        {
          "output_type": "stream",
          "name": "stdout",
          "text": [
            "Digite um número: 5\n",
            "Você deseja continuar [S/N]? S\n",
            "Digite um número: 15\n",
            "Você deseja continuar [S/N]? S\n",
            "Digite um número: 5\n",
            "Você deseja continuar [S/N]? n\n",
            "Você digitou 3 números e a média entr eles foi de 8.333333333333334\n",
            "O maior valor lido foi de 15 e o menor valor lido foi de 5\n"
          ]
        }
      ]
    },
    {
      "cell_type": "markdown",
      "metadata": {
        "id": "bu63uXmo7wqm"
      },
      "source": [
        "#Exercícios Interrompendo Repetições While\n"
      ]
    },
    {
      "cell_type": "markdown",
      "metadata": {
        "id": "UIQyC--7Agkq"
      },
      "source": [
        "-----\n",
        "#Exercício 66\n",
        "------\n",
        "Crie um programa que leia números inteiros pelo teclado. O programa só vai parar quando o usuário digitar o valor 999, que é a condição de parada. No final, mostre quantos números foram digitados e qual foi a soma entre elas (desconsiderando o flag)."
      ]
    },
    {
      "cell_type": "code",
      "metadata": {
        "colab": {
          "base_uri": "https://localhost:8080/"
        },
        "id": "VD60lfao880U",
        "outputId": "b60a69ce-9f9e-4dac-da13-fc887bb1ae19"
      },
      "source": [
        "cont = 0\n",
        "soma = 0\n",
        "\n",
        "while True:\n",
        "  n = int (input('Digite um valor (999 para parar): '))\n",
        "  if n == 999:\n",
        "    break\n",
        "  soma += n\n",
        "  cont += 1\n"
      ],
      "execution_count": 9,
      "outputs": [
        {
          "output_type": "stream",
          "name": "stdout",
          "text": [
            "Digite um valor (999 para parar): 3\n",
            "Digite um valor (999 para parar): 5\n",
            "Digite um valor (999 para parar): 2\n",
            "Digite um valor (999 para parar): 999\n",
            "Você digitou 3 números e a soma foi de 10!\n"
          ]
        }
      ]
    },
    {
      "cell_type": "markdown",
      "metadata": {
        "id": "RLyzyaB9B_Jq"
      },
      "source": [
        "-----\n",
        "#Exercício 67\n",
        "------"
      ]
    },
    {
      "cell_type": "code",
      "metadata": {
        "colab": {
          "base_uri": "https://localhost:8080/"
        },
        "id": "OHWBBWbyB-u1",
        "outputId": "85451177-3f64-440d-c796-c2ae6206cc93"
      },
      "source": [
        "cont = 0\n",
        "while True:\n",
        "  n = int (input('Quer ver a tabuada de qual valor? '))\n",
        "  if n < 0:\n",
        "    break\n",
        "  print('----' * 10)\n",
        "  for i in range (1, 11):\n",
        "    print(f'{n} x {i} = {n * i}')\n",
        "  print('----' *10)\n",
        "print('----' *10)  \n",
        "print('PROGRAMA TABUADA ENCERRADO. Volte sempre!')\n",
        "\n",
        "  \n",
        "  \n"
      ],
      "execution_count": 18,
      "outputs": [
        {
          "output_type": "stream",
          "name": "stdout",
          "text": [
            "Quer ver a tabuada de qual valor? 5\n",
            "----------------------------------------\n",
            "5 x 1 = 5\n",
            "5 x 2 = 10\n",
            "5 x 3 = 15\n",
            "5 x 4 = 20\n",
            "5 x 5 = 25\n",
            "5 x 6 = 30\n",
            "5 x 7 = 35\n",
            "5 x 8 = 40\n",
            "5 x 9 = 45\n",
            "5 x 10 = 50\n",
            "----------------------------------------\n",
            "Quer ver a tabuada de qual valor? -2\n",
            "----------------------------------------\n",
            "PROGRAMA TABUADA ENCERRADO. Volte sempre!\n"
          ]
        }
      ]
    },
    {
      "cell_type": "markdown",
      "metadata": {
        "id": "keF6UnavEVsa"
      },
      "source": [
        "-----\n",
        "#Exercício 68\n",
        "------"
      ]
    },
    {
      "cell_type": "code",
      "metadata": {
        "colab": {
          "base_uri": "https://localhost:8080/"
        },
        "id": "KzvOiUEwEVTE",
        "outputId": "313e6e83-4c95-4509-bcc1-bfdfd1263c07"
      },
      "source": [
        "from random import randint\n",
        "\n",
        "print('-=-=' * 10)\n",
        "print('VAMOS JOGAR PAR OU ÍMPAR')\n",
        "print('-=-=' * 10)\n",
        "\n",
        "cont = 0\n",
        "\n",
        "while True:\n",
        "  computador = randint(0, 100)\n",
        "  print(computador)\n",
        "  valor = int (input('Diga um valor: '))\n",
        "  jogada = str (input('Par ou Ímpar? [P/I] ')).strip()[0]\n",
        "  soma = valor + computador\n",
        "\n",
        "  if jogada in 'Pp' and soma % 2 != 0:\n",
        "    print('---' * 10)\n",
        "    print(f'Você jogou {valor} e o computador jogou {computador}. Total de {soma} DEU ÍMPAR.')\n",
        "    print('----' * 10)\n",
        "    break\n",
        "  elif jogada in 'Ii' and soma % 2 == 0:\n",
        "    print('---' * 10)\n",
        "    print(f'Você jogou {valor} e o computador jogou {computador}. Total de {soma} DEU PAR')\n",
        "    print('---' * 10)\n",
        "    break\n",
        "\n",
        "  print('---' * 10)\n",
        "  print(f'Você jogou {valor} e o computador {computador}. Total de {soma} DEU ???????????')\n",
        "  print('---' * 10)\n",
        "  print('Você venceu!!!')\n",
        "  print('Vamos jogar novamente...')\n",
        "  print('-=-=-=' *10)\n",
        "  cont += 1\n",
        "  \n",
        "print('Você Perdeu!')\n",
        "print('-=-=-' * 10)\n",
        "print(f'GAME OVER! Você venceu {cont} vezes')\n",
        "    \n",
        "  \n",
        "\n"
      ],
      "execution_count": 62,
      "outputs": [
        {
          "output_type": "stream",
          "name": "stdout",
          "text": [
            "-=-=-=-=-=-=-=-=-=-=-=-=-=-=-=-=-=-=-=-=\n",
            "VAMOS JOGAR PAR OU ÍMPAR\n",
            "-=-=-=-=-=-=-=-=-=-=-=-=-=-=-=-=-=-=-=-=\n",
            "73\n",
            "Diga um valor: 1\n",
            "Par ou Ímpar? [P/I] p\n",
            "------------------------------\n",
            "Você jogou 1 e o computador 73. Total de 74 DEU ???????????\n",
            "------------------------------\n",
            "Você venceu!!!\n",
            "Vamos jogar novamente...\n",
            "-=-=-=-=-=-=-=-=-=-=-=-=-=-=-=-=-=-=-=-=-=-=-=-=-=-=-=-=-=-=\n",
            "44\n",
            "Diga um valor: 1\n",
            "Par ou Ímpar? [P/I] I\n",
            "------------------------------\n",
            "Você jogou 1 e o computador 44. Total de 45 DEU ???????????\n",
            "------------------------------\n",
            "Você venceu!!!\n",
            "Vamos jogar novamente...\n",
            "-=-=-=-=-=-=-=-=-=-=-=-=-=-=-=-=-=-=-=-=-=-=-=-=-=-=-=-=-=-=\n",
            "94\n",
            "Diga um valor: 1\n",
            "Par ou Ímpar? [P/I] p\n",
            "------------------------------\n",
            "Você jogou 1 e o computador jogou 94. Total de 95 DEU ÍMPAR.\n",
            "----------------------------------------\n",
            "Você Perdeu!\n",
            "-=-=--=-=--=-=--=-=--=-=--=-=--=-=--=-=--=-=--=-=-\n",
            "GAME OVER! Você venceu 2 vezes\n"
          ]
        }
      ]
    }
  ]
}